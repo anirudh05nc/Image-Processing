{
 "cells": [
  {
   "cell_type": "code",
   "execution_count": 1,
   "id": "8745f379-9fdb-4bd6-b9ec-8f570336e7d1",
   "metadata": {},
   "outputs": [],
   "source": [
    "import numpy as np\n",
    "import matplotlib.pyplot as plt\n",
    "import cv2 as cv"
   ]
  },
  {
   "cell_type": "markdown",
   "id": "9a65fa31-1359-4630-a061-92363e04cbc0",
   "metadata": {},
   "source": [
    "## Blur Live Image"
   ]
  },
  {
   "cell_type": "code",
   "execution_count": 5,
   "id": "f0f8441e-fe5d-48a3-8362-a5037c43c846",
   "metadata": {},
   "outputs": [],
   "source": [
    "cam = cv.VideoCapture(0)\n",
    "\n",
    "while True:\n",
    "    _, img = cam.read()\n",
    "    img = cv.flip(img, 1)\n",
    "    blur_1 = cv.blur(img, (2, 2))\n",
    "    blur_2 = cv.blur(img, (4, 4))\n",
    "    blur_3 = cv.blur(img, (8, 8))\n",
    "    blur_4 = cv.blur(img, (16, 16))\n",
    "    blur_5 = cv.blur(img, (32, 32))\n",
    "    \n",
    "    cv.imshow(\"Frame\", img)\n",
    "    cv.imshow('blur- 1',blur_1)\n",
    "    cv.imshow('blur- 2',blur_2)\n",
    "    cv.imshow('blur- 3',blur_3)\n",
    "    cv.imshow('blur- 4',blur_4)\n",
    "    cv.imshow('blur- 5',blur_5)\n",
    "    \n",
    "    key = cv.waitKey(30)\n",
    "    if(key == 27):\n",
    "        cam.release()\n",
    "        break\n",
    "\n",
    "cv.destroyAllWindows()"
   ]
  },
  {
   "cell_type": "code",
   "execution_count": 9,
   "id": "d9c2c46b-1978-44d7-a287-7cfaf091b90e",
   "metadata": {},
   "outputs": [],
   "source": [
    "#Compare all the Blur Images and then take the best one"
   ]
  },
  {
   "cell_type": "code",
   "execution_count": null,
   "id": "96732642-578e-4a20-bf1a-9092cea0b472",
   "metadata": {},
   "outputs": [],
   "source": []
  }
 ],
 "metadata": {
  "kernelspec": {
   "display_name": "Python [conda env:base] *",
   "language": "python",
   "name": "conda-base-py"
  },
  "language_info": {
   "codemirror_mode": {
    "name": "ipython",
    "version": 3
   },
   "file_extension": ".py",
   "mimetype": "text/x-python",
   "name": "python",
   "nbconvert_exporter": "python",
   "pygments_lexer": "ipython3",
   "version": "3.12.7"
  }
 },
 "nbformat": 4,
 "nbformat_minor": 5
}
