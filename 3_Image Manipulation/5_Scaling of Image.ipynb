{
 "cells": [
  {
   "cell_type": "code",
   "execution_count": 1,
   "id": "d91606dd-19d8-4648-a605-fb7bb52c421e",
   "metadata": {},
   "outputs": [],
   "source": [
    "import cv2 as cv"
   ]
  },
  {
   "cell_type": "markdown",
   "id": "9c542b79-a8db-4b17-b779-facf7b6e71c4",
   "metadata": {},
   "source": [
    "## Resizing "
   ]
  },
  {
   "cell_type": "code",
   "execution_count": 9,
   "id": "a1291615-b0b6-405e-8f53-1d9f222b4d47",
   "metadata": {},
   "outputs": [],
   "source": [
    "cam = cv.VideoCapture(0)\n",
    "\n",
    "while True:\n",
    "    _, img = cam.read()\n",
    "    img = cv.flip(img, 1)\n",
    "\n",
    "    resized = cv.resize(img, (360, 360))\n",
    "        \n",
    "    cv.imshow('Original', img)\n",
    "    cv.imshow('Resized', resized)\n",
    "    key = cv.waitKey(30)\n",
    "    if(key == 27):\n",
    "        cam.release()\n",
    "        break\n",
    "\n",
    "cv.destroyAllWindows()"
   ]
  },
  {
   "cell_type": "code",
   "execution_count": 7,
   "id": "ec4c6a19-9047-4f47-adb6-83a2057c80a1",
   "metadata": {},
   "outputs": [
    {
     "data": {
      "text/plain": [
       "(480, 640, 3)"
      ]
     },
     "execution_count": 7,
     "metadata": {},
     "output_type": "execute_result"
    }
   ],
   "source": [
    "img.shape"
   ]
  },
  {
   "cell_type": "code",
   "execution_count": 13,
   "id": "1df8a167-e126-4af4-86c7-f76db110663c",
   "metadata": {},
   "outputs": [],
   "source": [
    "# You Observe that the above Code Gives you distorted Image\n",
    "# so use aspect Ratio for same ratio of pixels"
   ]
  },
  {
   "cell_type": "code",
   "execution_count": 19,
   "id": "666cd45f-e682-4630-b898-66cc42e9fa1d",
   "metadata": {},
   "outputs": [
    {
     "data": {
      "text/plain": [
       "240.0"
      ]
     },
     "execution_count": 19,
     "metadata": {},
     "output_type": "execute_result"
    }
   ],
   "source": [
    "img.shape[0]/2"
   ]
  },
  {
   "cell_type": "code",
   "execution_count": 21,
   "id": "e8d3b8fa-e79a-4441-85a6-379e6e56fec4",
   "metadata": {},
   "outputs": [
    {
     "data": {
      "text/plain": [
       "320.0"
      ]
     },
     "execution_count": 21,
     "metadata": {},
     "output_type": "execute_result"
    }
   ],
   "source": [
    "img.shape[1]/2"
   ]
  },
  {
   "cell_type": "code",
   "execution_count": 2,
   "id": "acd99fb5-4d3d-47f9-94d9-3dfc7f2b90c8",
   "metadata": {},
   "outputs": [],
   "source": [
    "cam = cv.VideoCapture(0)\n",
    "\n",
    "while True:\n",
    "    _, img = cam.read()\n",
    "    img = cv.flip(img, 1)\n",
    "\n",
    "    resized_1 = cv.resize(img, (int(img.shape[1]/2), int(img.shape[0]/2)))\n",
    "    resized_2 = cv.resize(img, (int(img.shape[1]/3), int(img.shape[0]/3)))\n",
    "        \n",
    "    cv.imshow('Original', img)\n",
    "    cv.imshow('Resized-1', resized_1)\n",
    "    cv.imshow('Resized-2', resized_2)\n",
    "    \n",
    "    key = cv.waitKey(30)\n",
    "    if(key == 27):\n",
    "        cam.release()\n",
    "        break\n",
    "\n",
    "cv.destroyAllWindows()"
   ]
  },
  {
   "cell_type": "markdown",
   "id": "f3df1201-8bc5-43bf-b9c1-e3934a1d58f4",
   "metadata": {},
   "source": [
    "## Downscaling and Upscaling"
   ]
  },
  {
   "cell_type": "code",
   "execution_count": 42,
   "id": "7dd104bf-f2a2-4041-9309-3fd51a6b60da",
   "metadata": {},
   "outputs": [],
   "source": [
    "cam = cv.VideoCapture(0)\n",
    "\n",
    "while True:\n",
    "    _, img = cam.read()\n",
    "    img = cv.flip(img, 1)\n",
    "\n",
    "    downscale = cv.resize(img, (int(img.shape[1]/3), int(img.shape[0]/3)))\n",
    "    upscale = cv.resize(downscale, (int(downscale.shape[1]*3), int(downscale.shape[0]*3)))\n",
    "    \n",
    "    cv.imshow('Original', img)\n",
    "    cv.imshow('Down Scaled', downscale)\n",
    "    cv.imshow('Up Scaled', upscale)\n",
    "    \n",
    "    key = cv.waitKey(30)\n",
    "    if(key == 27):\n",
    "        cam.release()\n",
    "        break\n",
    "\n",
    "cv.destroyAllWindows()"
   ]
  }
 ],
 "metadata": {
  "kernelspec": {
   "display_name": "base",
   "language": "python",
   "name": "python3"
  },
  "language_info": {
   "codemirror_mode": {
    "name": "ipython",
    "version": 3
   },
   "file_extension": ".py",
   "mimetype": "text/x-python",
   "name": "python",
   "nbconvert_exporter": "python",
   "pygments_lexer": "ipython3",
   "version": "3.12.7"
  }
 },
 "nbformat": 4,
 "nbformat_minor": 5
}
