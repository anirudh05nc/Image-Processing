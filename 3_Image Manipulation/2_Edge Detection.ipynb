{
 "cells": [
  {
   "cell_type": "code",
   "execution_count": 1,
   "id": "432e7a4c-9a09-4962-8ec0-e9b80485d276",
   "metadata": {},
   "outputs": [],
   "source": [
    "import numpy as np\n",
    "import matplotlib.pyplot as plt\n",
    "import cv2 as cv"
   ]
  },
  {
   "cell_type": "markdown",
   "id": "9d355eac-c8a9-40f5-8127-41d1842c98b1",
   "metadata": {},
   "source": [
    "## Edge Detection"
   ]
  },
  {
   "cell_type": "code",
   "execution_count": null,
   "id": "8ba4dc39-63d6-42ac-a1de-329521200763",
   "metadata": {},
   "outputs": [],
   "source": [
    "cam = cv.VideoCapture(0)\n",
    "\n",
    "while True:\n",
    "    _, img = cam.read()\n",
    "    img = cv.flip(img, 1)\n",
    "    edge_1 = cv.Canny(img, 0, 50)\n",
    "    edge_2 = cv.Canny(img, 50, 100)\n",
    "    edge_3 = cv.Canny(img, 150, 200)\n",
    "    edge_4 = cv.Canny(img, 200, 250)\n",
    "    edge_5 = cv.Canny(img, 250, 300)\n",
    "\n",
    "    cv.imshow('Frame', img)\n",
    "    cv.imshow('Edge-1', edge_1)\n",
    "    cv.imshow('Edge-2', edge_2)\n",
    "    cv.imshow('Edge-3', edge_3)\n",
    "    cv.imshow('Edge-4', edge_4)\n",
    "    cv.imshow('Edge-5', edge_5)\n",
    "    key = cv.waitKey(30)\n",
    "    if(key == 27):\n",
    "        cam.release()\n",
    "        break\n",
    "\n",
    "cv.destroyAllWindows()"
   ]
  },
  {
   "cell_type": "code",
   "execution_count": 19,
   "id": "fcb2bbd2-270b-4277-8cae-27e194fc9e0e",
   "metadata": {},
   "outputs": [],
   "source": [
    "#From Comparing all the edges we can decide the best Edge value"
   ]
  },
  {
   "cell_type": "code",
   "execution_count": null,
   "id": "07346bb6-ab03-48b4-b047-5b54dfbf2f84",
   "metadata": {},
   "outputs": [],
   "source": []
  }
 ],
 "metadata": {
  "kernelspec": {
   "display_name": "base",
   "language": "python",
   "name": "python3"
  },
  "language_info": {
   "codemirror_mode": {
    "name": "ipython",
    "version": 3
   },
   "file_extension": ".py",
   "mimetype": "text/x-python",
   "name": "python",
   "nbconvert_exporter": "python",
   "pygments_lexer": "ipython3",
   "version": "3.12.7"
  }
 },
 "nbformat": 4,
 "nbformat_minor": 5
}
