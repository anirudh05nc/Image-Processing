{
 "cells": [
  {
   "cell_type": "code",
   "execution_count": 7,
   "id": "7b89ce71-1c32-442a-a59a-62f5ea787295",
   "metadata": {},
   "outputs": [],
   "source": [
    "import cv2 as cv"
   ]
  },
  {
   "cell_type": "markdown",
   "id": "0120205f-a6c0-4303-9a90-2350c3701b89",
   "metadata": {},
   "source": [
    "## Edge Detection with Blur Image"
   ]
  },
  {
   "cell_type": "code",
   "execution_count": 21,
   "id": "c486a538-1d8f-45de-96a3-e741a476f966",
   "metadata": {},
   "outputs": [],
   "source": [
    "cam = cv.VideoCapture(0)\n",
    "\n",
    "while True:\n",
    "    _, img = cam.read()\n",
    "    img = cv.flip(img, 1)\n",
    "\n",
    "    edge = cv.Canny(img , 50,100)\n",
    "    blur = cv.blur(img, (3,3))\n",
    "    final = cv.Canny(blur, 50,100)\n",
    "    \n",
    "    cv.imshow('Original', img)\n",
    "    cv.imshow('Edge', edge)\n",
    "    cv.imshow('Blur', blur)\n",
    "    cv.imshow('Final', final)\n",
    "    \n",
    "    key = cv.waitKey(30)\n",
    "    if(key == 27):\n",
    "        cam.release()\n",
    "        break\n",
    "\n",
    "cv.destroyAllWindows()    "
   ]
  },
  {
   "cell_type": "code",
   "execution_count": null,
   "id": "ae462481-ef74-42c4-8d60-a0c58b3476f6",
   "metadata": {},
   "outputs": [],
   "source": []
  }
 ],
 "metadata": {
  "kernelspec": {
   "display_name": "Python [conda env:base] *",
   "language": "python",
   "name": "conda-base-py"
  },
  "language_info": {
   "codemirror_mode": {
    "name": "ipython",
    "version": 3
   },
   "file_extension": ".py",
   "mimetype": "text/x-python",
   "name": "python",
   "nbconvert_exporter": "python",
   "pygments_lexer": "ipython3",
   "version": "3.12.7"
  }
 },
 "nbformat": 4,
 "nbformat_minor": 5
}
