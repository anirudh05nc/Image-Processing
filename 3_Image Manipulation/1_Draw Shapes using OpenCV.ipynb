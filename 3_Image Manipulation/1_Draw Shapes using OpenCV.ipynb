{
 "cells": [
  {
   "cell_type": "code",
   "execution_count": null,
   "id": "de322512-9a38-4d35-9e6c-0df8c0dd63d8",
   "metadata": {},
   "outputs": [],
   "source": [
    "import numpy as np\n",
    "import cv2 as cv"
   ]
  },
  {
   "cell_type": "code",
   "execution_count": 17,
   "id": "ce0c0667-89c9-411d-867f-0aca57e458b5",
   "metadata": {},
   "outputs": [],
   "source": [
    "img = np.zeros((400,400,3),dtype='uint8')\n",
    "\n",
    "img = cv.putText(img, \"GeeksForGeeks\", (100,200), cv.FONT_HERSHEY_COMPLEX, 1, (255,255,255), 2)\n",
    "\n",
    "cv.imshow('GFG',img)\n",
    "cv.waitKey(0)\n",
    "cv.destroyAllWindows()"
   ]
  },
  {
   "cell_type": "markdown",
   "id": "7144dc39-1395-472f-ab99-31107150f85b",
   "metadata": {},
   "source": [
    "## Rectangle"
   ]
  },
  {
   "cell_type": "code",
   "execution_count": 26,
   "id": "1d00c1af-78f5-4228-8ac4-bbd0637750bf",
   "metadata": {},
   "outputs": [],
   "source": [
    "#Using Live Video\n",
    "\n",
    "cam = cv.VideoCapture(0)\n",
    "\n",
    "while True:\n",
    "    _, img = cam.read()\n",
    "\n",
    "    img = cv.flip(img, 1)\n",
    "\n",
    "    cv.rectangle(img, (150, 100), (500, 400), (100, 200, 150), 5)\n",
    "    cv.rectangle(img, (145, 95), (505, 405), (123,43,234),5)\n",
    "    \n",
    "    cv.imshow('Frame',img)\n",
    "\n",
    "    key = cv.waitKey(30)\n",
    "\n",
    "    if(key == 27):\n",
    "        cam.release()\n",
    "        break\n",
    "\n",
    "cv.destroyAllWindows()"
   ]
  },
  {
   "cell_type": "markdown",
   "id": "d276b044-d160-41a0-88c9-136173883134",
   "metadata": {},
   "source": [
    "## Circle"
   ]
  },
  {
   "cell_type": "code",
   "execution_count": 11,
   "id": "90aec57d-af2d-415f-92ba-dd7c386177ce",
   "metadata": {},
   "outputs": [],
   "source": [
    "cam = cv.VideoCapture(0)\n",
    "\n",
    "while True:\n",
    "    _, img = cam.read()\n",
    "    img = cv.flip(img, 1)\n",
    "\n",
    "    cv.circle(img, (270,300), 150, (100,150,200), 5)\n",
    "    \n",
    "    cv.imshow('frame', img)\n",
    "\n",
    "    key = cv.waitKey(30)\n",
    "    if(key == 27):\n",
    "        cam.release()\n",
    "        break\n",
    "\n",
    "cv.destroyAllWindows()"
   ]
  },
  {
   "cell_type": "markdown",
   "id": "61bd4bec-4eb8-461b-93dc-b0b318069c3f",
   "metadata": {},
   "source": [
    "## Text"
   ]
  },
  {
   "cell_type": "code",
   "execution_count": 23,
   "id": "fbd7aec6-2fac-47bf-a0f6-f3c045503f03",
   "metadata": {},
   "outputs": [],
   "source": [
    "cam = cv.VideoCapture(0)\n",
    "\n",
    "while True:\n",
    "    _, img = cam.read()\n",
    "    img = cv.flip(img, 1)\n",
    "\n",
    "    cv.putText(img, \"Anirudh Naginayani Cheruvu\", (10, 25), cv.FONT_HERSHEY_SCRIPT_COMPLEX, 1, (255, 255, 255), 2)\n",
    "    \n",
    "    cv.imshow('Frame', img)\n",
    "    key = cv.waitKey(30)\n",
    "    if(key == 27):\n",
    "        cam.release()\n",
    "        break\n",
    "cv.destroyAllWindows()"
   ]
  }
 ],
 "metadata": {
  "kernelspec": {
   "display_name": "Python [conda env:base] *",
   "language": "python",
   "name": "conda-base-py"
  },
  "language_info": {
   "codemirror_mode": {
    "name": "ipython",
    "version": 3
   },
   "file_extension": ".py",
   "mimetype": "text/x-python",
   "name": "python",
   "nbconvert_exporter": "python",
   "pygments_lexer": "ipython3",
   "version": "3.12.7"
  }
 },
 "nbformat": 4,
 "nbformat_minor": 5
}
