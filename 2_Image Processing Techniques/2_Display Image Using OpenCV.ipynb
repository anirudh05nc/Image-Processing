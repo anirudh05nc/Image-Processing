{
 "cells": [
  {
   "cell_type": "code",
   "execution_count": 1,
   "id": "2467c58f-0f97-4844-8c17-ce5f8d974d07",
   "metadata": {},
   "outputs": [],
   "source": [
    "import numpy as np\n",
    "import matplotlib.pyplot as plt\n",
    "import cv2 as cv"
   ]
  },
  {
   "cell_type": "code",
   "execution_count": 3,
   "id": "a7ea811b-6a37-4651-8717-1f1a8f66c372",
   "metadata": {},
   "outputs": [
    {
     "data": {
      "text/plain": [
       "27"
      ]
     },
     "execution_count": 3,
     "metadata": {},
     "output_type": "execute_result"
    }
   ],
   "source": [
    "#Load Image\n",
    "img = cv.imread('rgb.jpeg')\n",
    "img = cv.cvtColor(img ,cv.COLOR_BGR2RGB)\n",
    "cv.imshow('Image',img)\n",
    "cv.waitKey(0)\n",
    "\n",
    "img = cv.imread('transition.jpg')\n",
    "img = cv.cvtColor(img ,cv.COLOR_BGR2RGB)\n",
    "cv.imshow('Image',img)\n",
    "cv.waitKey(0)"
   ]
  },
  {
   "cell_type": "code",
   "execution_count": null,
   "id": "ab8aca5a-e017-4b3d-85c6-bbe1297bcedd",
   "metadata": {},
   "outputs": [],
   "source": [
    "#Extract Frames\n",
    "img = cv.imread('rgb.jpeg')\n",
    "img = cv.cvtColor(img ,cv.COLOR_BGR2RGB)\n",
    "\n",
    "r = img[ : , : , 0] \n",
    "g = img[ : , : , 1]\n",
    "b = img[ : , : , 2]\n",
    "\n",
    "cv.imshow('red', r)\n",
    "cv.waitKey(0)\n",
    "\n",
    "cv.imshow('green', g)\n",
    "cv.waitKey(0)\n",
    "\n",
    "cv.imshow('blue', b)\n",
    "cv.waitKey(0)"
   ]
  },
  {
   "cell_type": "code",
   "execution_count": null,
   "id": "fb47507c-a104-4f60-b4a0-7dcd6dc00a3c",
   "metadata": {},
   "outputs": [],
   "source": []
  }
 ],
 "metadata": {
  "kernelspec": {
   "display_name": "Python [conda env:base] *",
   "language": "python",
   "name": "conda-base-py"
  },
  "language_info": {
   "codemirror_mode": {
    "name": "ipython",
    "version": 3
   },
   "file_extension": ".py",
   "mimetype": "text/x-python",
   "name": "python",
   "nbconvert_exporter": "python",
   "pygments_lexer": "ipython3",
   "version": "3.12.7"
  }
 },
 "nbformat": 4,
 "nbformat_minor": 5
}
