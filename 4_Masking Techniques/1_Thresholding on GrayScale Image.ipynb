{
 "cells": [
  {
   "cell_type": "code",
   "execution_count": 1,
   "id": "5c6685f6-0afe-49da-b6b9-c079ac5fc62a",
   "metadata": {},
   "outputs": [],
   "source": [
    "import cv2 as cv"
   ]
  },
  {
   "cell_type": "markdown",
   "id": "771311d9-e417-47af-aab9-5f4a16d48cac",
   "metadata": {},
   "source": [
    "## Apply Threshold on Gray Scale Images"
   ]
  },
  {
   "cell_type": "code",
   "execution_count": 2,
   "id": "b6f76371-adf2-4a04-926d-34e07447448c",
   "metadata": {},
   "outputs": [],
   "source": [
    "cam = cv.VideoCapture(0)\n",
    "\n",
    "while True:\n",
    "    _, img = cam.read()\n",
    "    img = cv.flip(img, 1)\n",
    "    img = cv.resize(img, (int(img.shape[1]/2), int(img.shape[0]/2)))\n",
    "    \n",
    "    gray = cv.cvtColor(img, cv.COLOR_BGR2GRAY)\n",
    "    gray_thr_1 = gray.copy()\n",
    "    gray_thr_1[gray_thr_1 < 190] = 100\n",
    "    gray_thr_1[gray_thr_1 > 190] = 250\n",
    "    gray_thr_2 = gray.copy()\n",
    "    gray_thr_2[gray_thr_2 > 190] = 250\n",
    "    \n",
    "    cv.imshow('Frame', img)\n",
    "    cv.imshow('Gray', gray)\n",
    "    cv.imshow('Gray Thresh 1', gray_thr_1)\n",
    "    cv.imshow('Gray Thresh 2', gray_thr_2)\n",
    "    \n",
    "    if cv.waitKey(30) == 27:\n",
    "        cam.release()\n",
    "        break\n",
    "\n",
    "cv.destroyAllWindows()"
   ]
  },
  {
   "cell_type": "code",
   "execution_count": null,
   "id": "f4c59f78",
   "metadata": {},
   "outputs": [],
   "source": []
  }
 ],
 "metadata": {
  "kernelspec": {
   "display_name": "base",
   "language": "python",
   "name": "python3"
  },
  "language_info": {
   "codemirror_mode": {
    "name": "ipython",
    "version": 3
   },
   "file_extension": ".py",
   "mimetype": "text/x-python",
   "name": "python",
   "nbconvert_exporter": "python",
   "pygments_lexer": "ipython3",
   "version": "3.12.7"
  }
 },
 "nbformat": 4,
 "nbformat_minor": 5
}
