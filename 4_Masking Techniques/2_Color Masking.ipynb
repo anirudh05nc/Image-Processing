{
 "cells": [
  {
   "cell_type": "code",
   "execution_count": 1,
   "id": "70b98653-ec5a-4da0-a64f-46f11ac299ab",
   "metadata": {},
   "outputs": [],
   "source": [
    "import numpy as np\n",
    "import cv2 as cv"
   ]
  },
  {
   "cell_type": "markdown",
   "id": "f0cecdf5-4307-4a73-a742-6f1279499d05",
   "metadata": {},
   "source": [
    "## Apply Masking on specific Color"
   ]
  },
  {
   "cell_type": "code",
   "execution_count": 17,
   "id": "033cd5fa-2f42-468b-bb0f-0f40ef38c1d4",
   "metadata": {},
   "outputs": [],
   "source": [
    "cam = cv.VideoCapture(0)\n",
    "\n",
    "lower = np.array([150, 150, 150])\n",
    "upper = np.array([180, 180, 180])\n",
    "\n",
    "\n",
    "while True:\n",
    "    _, img = cam.read()\n",
    "    img = cv.flip(img, 1)\n",
    "    mask = cv.blur(img, (4, 4))\n",
    "    mask = cv.inRange(img, lower, upper)\n",
    "    cv.imshow(\"Frame\", img)\n",
    "    cv.imshow(\"mask\", mask)\n",
    "    if cv.waitKey(30) == 27:\n",
    "        cam.release()\n",
    "        break\n",
    "\n",
    "cv.destroyAllWindows()"
   ]
  },
  {
   "cell_type": "code",
   "execution_count": null,
   "id": "1f5e51b1-0279-4f47-9b5b-0064a06f73dd",
   "metadata": {},
   "outputs": [],
   "source": []
  }
 ],
 "metadata": {
  "kernelspec": {
   "display_name": "Python [conda env:base] *",
   "language": "python",
   "name": "conda-base-py"
  },
  "language_info": {
   "codemirror_mode": {
    "name": "ipython",
    "version": 3
   },
   "file_extension": ".py",
   "mimetype": "text/x-python",
   "name": "python",
   "nbconvert_exporter": "python",
   "pygments_lexer": "ipython3",
   "version": "3.12.7"
  }
 },
 "nbformat": 4,
 "nbformat_minor": 5
}
