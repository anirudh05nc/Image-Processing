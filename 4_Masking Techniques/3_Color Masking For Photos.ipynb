{
 "cells": [
  {
   "cell_type": "code",
   "execution_count": 20,
   "id": "e006f598-dfcf-42ec-b850-99eda67b5c10",
   "metadata": {},
   "outputs": [],
   "source": [
    "import cv2 as cv\n",
    "import numpy as np"
   ]
  },
  {
   "cell_type": "markdown",
   "id": "326c4c95-0204-4628-a919-7fb1ec6180ea",
   "metadata": {},
   "source": [
    "## Color Masking For photo"
   ]
  },
  {
   "cell_type": "code",
   "execution_count": 26,
   "id": "0b5ec9c5-e70b-4a83-89cf-4286db1aae3f",
   "metadata": {},
   "outputs": [],
   "source": [
    "img = cv.imread('img_1.jpg')\n",
    "img = cv.resize(img, (int(img.shape[1]/2), int(img.shape[0]/2)))\n",
    "\n",
    "upper = np.array([197, 135, 16])\n",
    "lower = np.array([192, 120, 2])\n",
    "mask = cv.inRange(img, lower, upper)\n",
    "\n",
    "cv.imshow(\"Frame\", img)\n",
    "cv.imshow(\"Mask\", mask)\n",
    "cv.waitKey(0)\n",
    "\n",
    "cv.destroyAllWindows()"
   ]
  }
 ],
 "metadata": {
  "kernelspec": {
   "display_name": "Python [conda env:base] *",
   "language": "python",
   "name": "conda-base-py"
  },
  "language_info": {
   "codemirror_mode": {
    "name": "ipython",
    "version": 3
   },
   "file_extension": ".py",
   "mimetype": "text/x-python",
   "name": "python",
   "nbconvert_exporter": "python",
   "pygments_lexer": "ipython3",
   "version": "3.12.7"
  }
 },
 "nbformat": 4,
 "nbformat_minor": 5
}
