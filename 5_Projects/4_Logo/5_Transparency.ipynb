{
 "cells": [
  {
   "cell_type": "code",
   "execution_count": 1,
   "id": "d942c835-7c9b-4b70-b8fa-aee878c77291",
   "metadata": {},
   "outputs": [],
   "source": [
    "import numpy as np\n",
    "import cv2 as cv"
   ]
  },
  {
   "cell_type": "code",
   "execution_count": 25,
   "id": "0f198fc8-3f3c-4cb6-bd9c-5fde1943783e",
   "metadata": {},
   "outputs": [],
   "source": [
    "# Top Right\n",
    "cam = cv.VideoCapture(0)\n",
    "logo = cv.imread('N.png')\n",
    "\n",
    "while True:\n",
    "    _, img = cam.read()\n",
    "    img = cv.flip(img, 1)\n",
    "\n",
    "    ht = img.shape[0]\n",
    "    wt = img.shape[1]\n",
    "\n",
    "    top_margin = int((ht/100)*1)\n",
    "    logo_height = int((ht/100)*10.5)\n",
    "    left_margin = int((wt/100)*91.2)\n",
    "    logo_width = int((wt/100)*8)\n",
    "\n",
    "    side = min(logo_height, logo_width)\n",
    "    logo = cv.resize(logo, (side, side))\n",
    "\n",
    "    bg = img[top_margin : top_margin+side , left_margin : left_margin+side].copy()\n",
    "\n",
    "    final_logo = cv.addWeighted(bg, .5, logo, .5, 0)\n",
    "    \n",
    "    img[top_margin : top_margin+side , left_margin : left_margin+side] = final_logo\n",
    "    \n",
    "    cv.imshow(\"Frame\", img)\n",
    "\n",
    "    if cv.waitKey(1) == 27:\n",
    "        cam.release()\n",
    "        break\n",
    "\n",
    "cv.destroyAllWindows()"
   ]
  },
  {
   "cell_type": "code",
   "execution_count": null,
   "id": "94af2a33-9bc4-47b0-a6d9-d1e4ca2abbf1",
   "metadata": {},
   "outputs": [],
   "source": []
  }
 ],
 "metadata": {
  "kernelspec": {
   "display_name": "Python [conda env:base] *",
   "language": "python",
   "name": "conda-base-py"
  },
  "language_info": {
   "codemirror_mode": {
    "name": "ipython",
    "version": 3
   },
   "file_extension": ".py",
   "mimetype": "text/x-python",
   "name": "python",
   "nbconvert_exporter": "python",
   "pygments_lexer": "ipython3",
   "version": "3.12.7"
  }
 },
 "nbformat": 4,
 "nbformat_minor": 5
}
