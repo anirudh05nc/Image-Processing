{
 "cells": [
  {
   "cell_type": "code",
   "execution_count": 1,
   "id": "86c11a35-d99e-4491-b0f9-c512b3e46242",
   "metadata": {},
   "outputs": [],
   "source": [
    "import numpy as np\n",
    "import cv2 as cv"
   ]
  },
  {
   "cell_type": "code",
   "execution_count": 3,
   "id": "87aeedf6-597e-43f1-83be-ca35bf3a16ee",
   "metadata": {},
   "outputs": [
    {
     "ename": "error",
     "evalue": "OpenCV(4.11.0) D:\\a\\opencv-python\\opencv-python\\opencv\\modules\\imgproc\\src\\resize.cpp:4211: error: (-215:Assertion failed) inv_scale_x > 0 in function 'cv::resize'\n",
     "output_type": "error",
     "traceback": [
      "\u001b[1;31m---------------------------------------------------------------------------\u001b[0m",
      "\u001b[1;31merror\u001b[0m                                     Traceback (most recent call last)",
      "Cell \u001b[1;32mIn[3], line 23\u001b[0m\n\u001b[0;32m     20\u001b[0m logo_width \u001b[38;5;241m=\u001b[39m \u001b[38;5;28mint\u001b[39m((wt\u001b[38;5;241m/\u001b[39m\u001b[38;5;241m100\u001b[39m)\u001b[38;5;241m*\u001b[39m\u001b[38;5;241m8\u001b[39m)\n\u001b[0;32m     22\u001b[0m side \u001b[38;5;241m=\u001b[39m \u001b[38;5;28mmin\u001b[39m(logo_width, logo_height)\n\u001b[1;32m---> 23\u001b[0m logo \u001b[38;5;241m=\u001b[39m \u001b[43mcv\u001b[49m\u001b[38;5;241;43m.\u001b[39;49m\u001b[43mresize\u001b[49m\u001b[43m(\u001b[49m\u001b[43mlogo\u001b[49m\u001b[43m,\u001b[49m\u001b[43m \u001b[49m\u001b[43m(\u001b[49m\u001b[43mside\u001b[49m\u001b[43m,\u001b[49m\u001b[43m \u001b[49m\u001b[43mside\u001b[49m\u001b[43m)\u001b[49m\u001b[43m)\u001b[49m\n\u001b[0;32m     25\u001b[0m img[top_margin : (top_margin\u001b[38;5;241m+\u001b[39mside) , left_margin : (left_margin\u001b[38;5;241m+\u001b[39mside)] \u001b[38;5;241m=\u001b[39m logo\n\u001b[0;32m     27\u001b[0m cv\u001b[38;5;241m.\u001b[39mimshow(\u001b[38;5;124m\"\u001b[39m\u001b[38;5;124mFrame\u001b[39m\u001b[38;5;124m\"\u001b[39m, img)\n",
      "\u001b[1;31merror\u001b[0m: OpenCV(4.11.0) D:\\a\\opencv-python\\opencv-python\\opencv\\modules\\imgproc\\src\\resize.cpp:4211: error: (-215:Assertion failed) inv_scale_x > 0 in function 'cv::resize'\n"
     ]
    }
   ],
   "source": [
    "# Top Right\n",
    "cam = cv.VideoCapture(0)\n",
    "r = 0\n",
    "\n",
    "\n",
    "while True:\n",
    "    _, img = cam.read()\n",
    "    img = cv.flip(img, 1)\n",
    "    logo = cv.imread('N.png')\n",
    "    # img = cv.resize(img, (480, 480))\n",
    "    img = img[:, r:]\n",
    "    \n",
    "    ht = img.shape[0]\n",
    "    wt = img.shape[1]\n",
    "\n",
    "    top_margin = int((ht/100)*1)\n",
    "    logo_height = int((ht/100)*10.5)\n",
    "    \n",
    "    left_margin = int((wt/100)*91.2)\n",
    "    logo_width = int((wt/100)*8)\n",
    "\n",
    "    side = min(logo_width, logo_height)\n",
    "    logo = cv.resize(logo, (side, side))\n",
    "\n",
    "    img[top_margin : (top_margin+side) , left_margin : (left_margin+side)] = logo\n",
    "    \n",
    "    cv.imshow(\"Frame\", img)\n",
    "\n",
    "    if (cv.waitKey(1) == 115):\n",
    "        r -= 10\n",
    "    elif (cv.waitKey(1) == 119):\n",
    "        r += 10\n",
    "    elif cv.waitKey(1) == 27:\n",
    "        cam.release()\n",
    "        break\n",
    "\n",
    "cv.destroyAllWindows()"
   ]
  },
  {
   "cell_type": "code",
   "execution_count": 29,
   "id": "ae26b15a-8d3b-4ad5-a73b-cc74fba8867d",
   "metadata": {},
   "outputs": [
    {
     "data": {
      "text/plain": [
       "(480, 640, 3)"
      ]
     },
     "execution_count": 29,
     "metadata": {},
     "output_type": "execute_result"
    }
   ],
   "source": [
    "img.shape"
   ]
  },
  {
   "cell_type": "code",
   "execution_count": 39,
   "id": "1dd8c708-6c5c-4222-bbe2-f2a4e169f1f6",
   "metadata": {},
   "outputs": [],
   "source": [
    "img = cv.resize(img, (480, 480))"
   ]
  },
  {
   "cell_type": "code",
   "execution_count": 37,
   "id": "ec11d967-baee-45e6-8631-932a91d07f7d",
   "metadata": {},
   "outputs": [
    {
     "data": {
      "text/plain": [
       "(480, 640, 3)"
      ]
     },
     "execution_count": 37,
     "metadata": {},
     "output_type": "execute_result"
    }
   ],
   "source": [
    "img.shape"
   ]
  },
  {
   "cell_type": "code",
   "execution_count": 71,
   "id": "2b240c4f-7480-496f-908f-0c05939004f7",
   "metadata": {},
   "outputs": [],
   "source": [
    "cam.release()"
   ]
  },
  {
   "cell_type": "code",
   "execution_count": null,
   "id": "c050c70b-8902-4b6a-9cf9-92bf3e4f1530",
   "metadata": {},
   "outputs": [],
   "source": []
  }
 ],
 "metadata": {
  "kernelspec": {
   "display_name": "Python [conda env:base] *",
   "language": "python",
   "name": "conda-base-py"
  },
  "language_info": {
   "codemirror_mode": {
    "name": "ipython",
    "version": 3
   },
   "file_extension": ".py",
   "mimetype": "text/x-python",
   "name": "python",
   "nbconvert_exporter": "python",
   "pygments_lexer": "ipython3",
   "version": "3.12.7"
  }
 },
 "nbformat": 4,
 "nbformat_minor": 5
}
