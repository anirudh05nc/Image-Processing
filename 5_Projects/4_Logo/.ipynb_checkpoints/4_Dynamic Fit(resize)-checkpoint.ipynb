{
 "cells": [
  {
   "cell_type": "code",
   "execution_count": 1,
   "id": "39454cf7-9428-45cb-a229-b780a8adf908",
   "metadata": {},
   "outputs": [],
   "source": [
    "import numpy as np\n",
    "import cv2 as cv"
   ]
  },
  {
   "cell_type": "code",
   "execution_count": 9,
   "id": "aef5a441-f687-4c15-91c4-c01dcb901b93",
   "metadata": {},
   "outputs": [],
   "source": [
    "# Top Right\n",
    "cam = cv.VideoCapture(0)\n",
    "\n",
    "scaling_factor = 1.0\n",
    "while True:\n",
    "    _, img = cam.read()\n",
    "    img = cv.flip(img, 1)\n",
    "    logo = cv.imread('N.png')\n",
    "    img = cv.resize(img, (int(img.shape[1] * scaling_factor), int(img.shape[0] * scaling_factor)))\n",
    "    \n",
    "    ht = img.shape[0]\n",
    "    wt = img.shape[1]\n",
    "\n",
    "    top_margin = int((ht/100)*1)\n",
    "    logo_height = int((ht/100)*10.5)\n",
    "    \n",
    "    left_margin = int((wt/100)*91.2)\n",
    "    logo_width = int((wt/100)*8)\n",
    "\n",
    "    side = min(logo_width, logo_height)\n",
    "    logo = cv.resize(logo, (side, side))\n",
    "\n",
    "    img[top_margin : (top_margin+side) , left_margin : (left_margin+side)] = logo\n",
    "    \n",
    "    cv.imshow(\"Frame\", img)\n",
    "\n",
    "    if (cv.waitKey(1) == 115):\n",
    "        scaling_factor -= .1\n",
    "    elif (cv.waitKey(1) == 119):\n",
    "        scaling_factor += .1\n",
    "    elif cv.waitKey(1) == 27:\n",
    "        cam.release()\n",
    "        break\n",
    "\n",
    "cv.destroyAllWindows()"
   ]
  },
  {
   "cell_type": "code",
   "execution_count": 7,
   "id": "7c182b2d-9933-47f3-a95e-19f543ad0773",
   "metadata": {},
   "outputs": [
    {
     "name": "stdout",
     "output_type": "stream",
     "text": [
      "576 432\n"
     ]
    }
   ],
   "source": [
    "scaling_factor = .9\n",
    "\n",
    "print(int(img.shape[1] * scaling_factor), int(img.shape[0] * scaling_factor))"
   ]
  },
  {
   "cell_type": "code",
   "execution_count": null,
   "id": "c3481e6d-4646-4832-b68c-2531fa5a462e",
   "metadata": {},
   "outputs": [],
   "source": []
  }
 ],
 "metadata": {
  "kernelspec": {
   "display_name": "Python [conda env:base] *",
   "language": "python",
   "name": "conda-base-py"
  },
  "language_info": {
   "codemirror_mode": {
    "name": "ipython",
    "version": 3
   },
   "file_extension": ".py",
   "mimetype": "text/x-python",
   "name": "python",
   "nbconvert_exporter": "python",
   "pygments_lexer": "ipython3",
   "version": "3.12.7"
  }
 },
 "nbformat": 4,
 "nbformat_minor": 5
}
