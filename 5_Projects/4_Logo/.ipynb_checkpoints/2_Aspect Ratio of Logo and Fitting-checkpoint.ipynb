{
 "cells": [
  {
   "cell_type": "code",
   "execution_count": 120,
   "id": "15de52a0-45c6-47ad-86df-9c88abec8ea3",
   "metadata": {},
   "outputs": [],
   "source": [
    "import numpy as np\n",
    "import matplotlib.pyplot as plt\n",
    "import cv2 as cv"
   ]
  },
  {
   "cell_type": "code",
   "execution_count": 121,
   "id": "0f71c8ef-6401-4786-b273-8908d4e32e27",
   "metadata": {},
   "outputs": [],
   "source": [
    "logo = cv.imread('N.png')"
   ]
  },
  {
   "cell_type": "code",
   "execution_count": 122,
   "id": "bfc4d1cb-5077-4611-97d1-57c571733f5f",
   "metadata": {},
   "outputs": [
    {
     "data": {
      "text/plain": [
       "(50, 50, 3)"
      ]
     },
     "execution_count": 122,
     "metadata": {},
     "output_type": "execute_result"
    }
   ],
   "source": [
    "logo = cv.resize(logo, (50, 50))\n",
    "logo.shape"
   ]
  },
  {
   "cell_type": "code",
   "execution_count": 123,
   "id": "4f1522c2-e9a5-4c83-bf5a-3c813836d0e5",
   "metadata": {},
   "outputs": [],
   "source": [
    "cam = cv.VideoCapture(0)\n",
    "\n",
    "while True:\n",
    "    _, img = cam.read()\n",
    "    img = cv.flip(img, 1)\n",
    "    img[ 0 : 50 , 590 : 640 ] = logo\n",
    "    cv.imshow(\"Frame\", img)\n",
    "\n",
    "    if cv.waitKey(1) == 27:\n",
    "        cam.release()\n",
    "        break\n",
    "\n",
    "cv.destroyAllWindows()"
   ]
  },
  {
   "cell_type": "code",
   "execution_count": 124,
   "id": "3b7d2f9a-72e4-42d4-9e32-97622e3a76e8",
   "metadata": {},
   "outputs": [
    {
     "data": {
      "text/plain": [
       "(480, 640, 3)"
      ]
     },
     "execution_count": 124,
     "metadata": {},
     "output_type": "execute_result"
    }
   ],
   "source": [
    "img.shape"
   ]
  },
  {
   "cell_type": "code",
   "execution_count": 125,
   "id": "740f8791-2805-4944-913f-35833f6f6a28",
   "metadata": {},
   "outputs": [],
   "source": [
    "# Height = (1% - margin | 10.5% - Logo | 88.5% - Vacant)\n",
    "# Width = (91.2% - margin | 8% - Logo | 0.8% - Vacant)"
   ]
  },
  {
   "cell_type": "code",
   "execution_count": 126,
   "id": "3bed4a65-5151-4894-88ba-ff1f95beb3dd",
   "metadata": {},
   "outputs": [
    {
     "data": {
      "text/plain": [
       "4.8"
      ]
     },
     "execution_count": 126,
     "metadata": {},
     "output_type": "execute_result"
    }
   ],
   "source": [
    "480/100"
   ]
  },
  {
   "cell_type": "code",
   "execution_count": 127,
   "id": "da87eacb-c14b-48de-9bfd-2d59d7036e0b",
   "metadata": {},
   "outputs": [
    {
     "data": {
      "text/plain": [
       "1.0416666666666667"
      ]
     },
     "execution_count": 127,
     "metadata": {},
     "output_type": "execute_result"
    }
   ],
   "source": [
    "5 / 4.8"
   ]
  },
  {
   "cell_type": "code",
   "execution_count": 128,
   "id": "38fff15f-edc4-499c-8a5a-0c1eef8fd50e",
   "metadata": {},
   "outputs": [
    {
     "data": {
      "text/plain": [
       "10.416666666666668"
      ]
     },
     "execution_count": 128,
     "metadata": {},
     "output_type": "execute_result"
    }
   ],
   "source": [
    "50 / 4.8"
   ]
  },
  {
   "cell_type": "code",
   "execution_count": 129,
   "id": "b54caf22-83f4-4e47-9c6c-7346dfd14913",
   "metadata": {},
   "outputs": [
    {
     "data": {
      "text/plain": [
       "6.4"
      ]
     },
     "execution_count": 129,
     "metadata": {},
     "output_type": "execute_result"
    }
   ],
   "source": [
    "640/100"
   ]
  },
  {
   "cell_type": "code",
   "execution_count": 130,
   "id": "58ccb019-d5fc-4788-9cf4-6b112c51e45e",
   "metadata": {},
   "outputs": [
    {
     "data": {
      "text/plain": [
       "0.78125"
      ]
     },
     "execution_count": 130,
     "metadata": {},
     "output_type": "execute_result"
    }
   ],
   "source": [
    "5 / 6.4"
   ]
  },
  {
   "cell_type": "code",
   "execution_count": 131,
   "id": "72215b02-b8f4-4ee7-8a4f-f6d0dc309979",
   "metadata": {},
   "outputs": [
    {
     "data": {
      "text/plain": [
       "7.8125"
      ]
     },
     "execution_count": 131,
     "metadata": {},
     "output_type": "execute_result"
    }
   ],
   "source": [
    "50 / 6.4"
   ]
  },
  {
   "cell_type": "code",
   "execution_count": 132,
   "id": "e96e9444-c3ff-455d-9111-f4b538fd87a0",
   "metadata": {},
   "outputs": [
    {
     "name": "stdout",
     "output_type": "stream",
     "text": [
      "480\n",
      "640\n"
     ]
    }
   ],
   "source": [
    "ht = img.shape[0]\n",
    "wt = img.shape[1]\n",
    "print(ht)\n",
    "print(wt)"
   ]
  },
  {
   "cell_type": "code",
   "execution_count": 133,
   "id": "9518c4a3-0ae0-4f17-b6f1-b8fbf9e700b9",
   "metadata": {},
   "outputs": [
    {
     "name": "stdout",
     "output_type": "stream",
     "text": [
      "4\n",
      "50\n",
      "583\n",
      "51\n"
     ]
    }
   ],
   "source": [
    "top_margin = int((ht/100)*1)\n",
    "logo_height = int((ht/100)*10.5)\n",
    "\n",
    "left_margin = int((wt/100)*91.2)\n",
    "logo_width = int((wt/100)*8)\n",
    "\n",
    "print(top_margin)\n",
    "print(logo_height)\n",
    "print(left_margin)\n",
    "print(logo_width)"
   ]
  },
  {
   "cell_type": "code",
   "execution_count": 134,
   "id": "3d96f154-e518-4dc1-818c-69b834b076b5",
   "metadata": {},
   "outputs": [],
   "source": [
    "# Top Right\n",
    "cam = cv.VideoCapture(0)\n",
    "logo = cv.imread('N.png')\n",
    "\n",
    "while True:\n",
    "    _, img = cam.read()\n",
    "    img = cv.flip(img, 1)\n",
    "\n",
    "    ht = img.shape[0]\n",
    "    wt = img.shape[1]\n",
    "\n",
    "    top_margin = int((ht/100)*1)\n",
    "    logo_height = int((ht/100)*10.5)\n",
    "    left_margin = int((wt/100)*91.2)\n",
    "    logo_width = int((wt/100)*8)\n",
    "\n",
    "    logo = cv.resize(logo, (logo_height, logo_height))\n",
    "\n",
    "    img[top_margin : top_margin+logo_height , left_margin : left_margin+logo_height] = logo\n",
    "    \n",
    "    cv.imshow(\"Frame\", img)\n",
    "\n",
    "    if cv.waitKey(1) == 27:\n",
    "        cam.release()\n",
    "        break\n",
    "\n",
    "cv.destroyAllWindows()"
   ]
  },
  {
   "cell_type": "code",
   "execution_count": 135,
   "id": "9960ab76-86ac-4252-9b91-855732e9dc0c",
   "metadata": {},
   "outputs": [],
   "source": [
    "# Bottom Right\n",
    "cam = cv.VideoCapture(0)\n",
    "logo = cv.imread('N.png')\n",
    "\n",
    "while True:\n",
    "    _, img = cam.read()\n",
    "    img = cv.flip(img, 1)\n",
    "\n",
    "    ht = img.shape[0]\n",
    "    wt = img.shape[1]\n",
    "\n",
    "    top_margin = int((ht/100)*88.5)\n",
    "    logo_height = int((ht/100)*10.5)\n",
    "    left_margin = int((wt/100)*91.2)\n",
    "    logo_width = int((wt/100)*8)\n",
    "\n",
    "    logo = cv.resize(logo, (logo_height, logo_height))\n",
    "\n",
    "    img[top_margin : top_margin+logo_height , left_margin : left_margin+logo_height] = logo\n",
    "    \n",
    "    cv.imshow(\"Frame\", img)\n",
    "\n",
    "    if cv.waitKey(1) == 27:\n",
    "        cam.release()\n",
    "        break\n",
    "\n",
    "cv.destroyAllWindows()"
   ]
  },
  {
   "cell_type": "code",
   "execution_count": 136,
   "id": "26123ff9-d8e5-4b01-85b7-e577a81b5509",
   "metadata": {},
   "outputs": [],
   "source": [
    "# Top Left\n",
    "cam = cv.VideoCapture(0)\n",
    "logo = cv.imread('N.png')\n",
    "\n",
    "while True:\n",
    "    _, img = cam.read()\n",
    "    img = cv.flip(img, 1)\n",
    "\n",
    "    ht = img.shape[0]\n",
    "    wt = img.shape[1]\n",
    "\n",
    "    top_margin = int((ht/100)*1)\n",
    "    logo_height = int((ht/100)*10.5)\n",
    "    left_margin = int((wt/100)*0.8)\n",
    "    logo_width = int((wt/100)*8)\n",
    "\n",
    "    logo = cv.resize(logo, (logo_height, logo_height))\n",
    "\n",
    "    img[top_margin : top_margin+logo_height , left_margin : left_margin+logo_height] = logo\n",
    "    \n",
    "    cv.imshow(\"Frame\", img)\n",
    "\n",
    "    if cv.waitKey(1) == 27:\n",
    "        cam.release()\n",
    "        break\n",
    "\n",
    "cv.destroyAllWindows()"
   ]
  },
  {
   "cell_type": "code",
   "execution_count": 137,
   "id": "c4242f81-cdf2-4bb6-a72e-d9e27512370b",
   "metadata": {},
   "outputs": [],
   "source": [
    "# Bottom Left\n",
    "cam = cv.VideoCapture(0)\n",
    "logo = cv.imread('N.png')\n",
    "\n",
    "while True:\n",
    "    _, img = cam.read()\n",
    "    img = cv.flip(img, 1)\n",
    "\n",
    "    ht = img.shape[0]\n",
    "    wt = img.shape[1]\n",
    "\n",
    "    top_margin = int((ht/100)*88.5)\n",
    "    logo_height = int((ht/100)*10.5)\n",
    "    left_margin = int((wt/100)*0.8)\n",
    "    logo_width = int((wt/100)*8)\n",
    "\n",
    "    logo = cv.resize(logo, (logo_height, logo_height))\n",
    "\n",
    "    img[top_margin : top_margin+logo_height , left_margin : left_margin+logo_height] = logo\n",
    "    \n",
    "    cv.imshow(\"Frame\", img)\n",
    "\n",
    "    if cv.waitKey(1) == 27:\n",
    "        cam.release()\n",
    "        break\n",
    "\n",
    "cv.destroyAllWindows()"
   ]
  },
  {
   "cell_type": "markdown",
   "id": "30db277f-eb53-45c1-bca7-ceff5ee2606a",
   "metadata": {},
   "source": [
    "### Merging All "
   ]
  },
  {
   "cell_type": "code",
   "execution_count": 139,
   "id": "0cc5becc-217a-45d5-8189-994b897bc3b7",
   "metadata": {},
   "outputs": [],
   "source": [
    "cam = cv.VideoCapture(0)\n",
    "logo = cv.imread('N.png')\n",
    "\n",
    "while True:\n",
    "    _, img = cam.read()\n",
    "    img = cv.flip(img, 1)\n",
    "\n",
    "    ht = img.shape[0]\n",
    "    wt = img.shape[1]\n",
    "#Top Right\n",
    "    top_margin = int((ht/100)*1)\n",
    "    logo_height = int((ht/100)*10.5)\n",
    "    left_margin = int((wt/100)*91.2)\n",
    "    logo_width = int((wt/100)*8)\n",
    "    logo = cv.resize(logo, (logo_height, logo_height))\n",
    "    img[top_margin : top_margin+logo_height , left_margin : left_margin+logo_height] = logo\n",
    "\n",
    "#Top Left\n",
    "    top_margin = int((ht/100)*1)\n",
    "    logo_height = int((ht/100)*10.5)\n",
    "    left_margin = int((wt/100)*0.8)\n",
    "    logo_width = int((wt/100)*8)\n",
    "    logo = cv.resize(logo, (logo_height, logo_height))\n",
    "    img[top_margin : top_margin+logo_height , left_margin : left_margin+logo_height] = logo\n",
    "\n",
    "#Bottom Left\n",
    "    top_margin = int((ht/100)*88.5)\n",
    "    logo_height = int((ht/100)*10.5)\n",
    "    left_margin = int((wt/100)*0.8)\n",
    "    logo_width = int((wt/100)*8)\n",
    "    logo = cv.resize(logo, (logo_height, logo_height))\n",
    "    img[top_margin : top_margin+logo_height , left_margin : left_margin+logo_height] = logo\n",
    "\n",
    "#Bottom Right\n",
    "    top_margin = int((ht/100)*88.5)\n",
    "    logo_height = int((ht/100)*10.5)\n",
    "    left_margin = int((wt/100)*91.2)\n",
    "    logo_width = int((wt/100)*8)\n",
    "    logo = cv.resize(logo, (logo_height, logo_height))\n",
    "    img[top_margin : top_margin+logo_height , left_margin : left_margin+logo_height] = logo\n",
    "    \n",
    "    cv.imshow(\"Frame\", img)\n",
    "\n",
    "    if cv.waitKey(1) == 27:\n",
    "        cam.release()\n",
    "        break\n",
    "\n",
    "cv.destroyAllWindows()"
   ]
  },
  {
   "cell_type": "code",
   "execution_count": null,
   "id": "b95128fd-9184-445f-9ec1-f818f8ae18a4",
   "metadata": {},
   "outputs": [],
   "source": []
  }
 ],
 "metadata": {
  "kernelspec": {
   "display_name": "Python [conda env:base] *",
   "language": "python",
   "name": "conda-base-py"
  },
  "language_info": {
   "codemirror_mode": {
    "name": "ipython",
    "version": 3
   },
   "file_extension": ".py",
   "mimetype": "text/x-python",
   "name": "python",
   "nbconvert_exporter": "python",
   "pygments_lexer": "ipython3",
   "version": "3.12.7"
  }
 },
 "nbformat": 4,
 "nbformat_minor": 5
}
