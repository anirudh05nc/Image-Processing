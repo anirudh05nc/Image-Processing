{
 "cells": [
  {
   "cell_type": "code",
   "execution_count": 19,
   "id": "5112c652-110d-422e-8032-859549f069a5",
   "metadata": {},
   "outputs": [],
   "source": [
    "import numpy as np\n",
    "import cv2 as cv"
   ]
  },
  {
   "cell_type": "code",
   "execution_count": 21,
   "id": "1c1e7b2d-f7c4-4427-bea1-73b73a8c077a",
   "metadata": {},
   "outputs": [],
   "source": [
    "logo = cv.imread('Logo.png')"
   ]
  },
  {
   "cell_type": "code",
   "execution_count": 53,
   "id": "9328fffe-060c-402f-ab46-3d8cd905ea89",
   "metadata": {},
   "outputs": [],
   "source": [
    "# Top Right\n",
    "cam = cv.VideoCapture(0)\n",
    "\n",
    "while True:\n",
    "    _, img = cam.read()\n",
    "    img = cv.flip(img, 1)\n",
    "    img[ 0 : 100 , 540 : 640 ] = logo\n",
    "    cv.imshow(\"Frame\", img)\n",
    "\n",
    "    if cv.waitKey(1) == 27:\n",
    "        cam.release()\n",
    "        break\n",
    "\n",
    "cv.destroyAllWindows()"
   ]
  },
  {
   "cell_type": "code",
   "execution_count": 22,
   "id": "5d6f20a5-acc6-432e-a1e3-5c6a8c2bde60",
   "metadata": {},
   "outputs": [
    {
     "data": {
      "text/plain": [
       "(500, 500, 3)"
      ]
     },
     "execution_count": 22,
     "metadata": {},
     "output_type": "execute_result"
    }
   ],
   "source": [
    "logo.shape"
   ]
  },
  {
   "cell_type": "code",
   "execution_count": 23,
   "id": "c311bf63-6bc0-432a-87e1-c9357a35e3e2",
   "metadata": {},
   "outputs": [
    {
     "data": {
      "text/plain": [
       "(480, 640, 3)"
      ]
     },
     "execution_count": 23,
     "metadata": {},
     "output_type": "execute_result"
    }
   ],
   "source": [
    "img.shape"
   ]
  },
  {
   "cell_type": "code",
   "execution_count": 24,
   "id": "5b1fe2d1-cb54-4ffa-883e-7b8b25b7f867",
   "metadata": {},
   "outputs": [
    {
     "data": {
      "text/plain": [
       "(100, 100, 3)"
      ]
     },
     "execution_count": 24,
     "metadata": {},
     "output_type": "execute_result"
    }
   ],
   "source": [
    "logo = cv.resize(logo, (100, 100))\n",
    "logo.shape"
   ]
  },
  {
   "cell_type": "code",
   "execution_count": 49,
   "id": "d5e147b1-df9c-4522-a8dd-132f66002df0",
   "metadata": {},
   "outputs": [
    {
     "data": {
      "text/plain": [
       "(100, 100, 3)"
      ]
     },
     "execution_count": 49,
     "metadata": {},
     "output_type": "execute_result"
    }
   ],
   "source": [
    "logo.shape"
   ]
  },
  {
   "cell_type": "code",
   "execution_count": 52,
   "id": "abe79d6b-d8d1-4fe2-9043-9b1c61de22c0",
   "metadata": {},
   "outputs": [],
   "source": [
    "# Top Left\n",
    "cam = cv.VideoCapture(0)\n",
    "\n",
    "while True:\n",
    "    _, img = cam.read()\n",
    "    img = cv.flip(img, 1)\n",
    "    img[ 0 : 100 , 0 : 100 ] = logo\n",
    "    cv.imshow(\"Frame\", img)\n",
    "\n",
    "    if cv.waitKey(1) == 27:\n",
    "        cam.release()\n",
    "        break\n",
    "\n",
    "cv.destroyAllWindows()"
   ]
  },
  {
   "cell_type": "code",
   "execution_count": 57,
   "id": "fabdaabb-0800-4802-927e-02b3e3ead70a",
   "metadata": {},
   "outputs": [],
   "source": [
    "# Bottom Left\n",
    "cam = cv.VideoCapture(0)\n",
    "\n",
    "while True:\n",
    "    _, img = cam.read()\n",
    "    img = cv.flip(img, 1)\n",
    "    img[ 380 : 480 , 0 : 100 ] = logo\n",
    "    cv.imshow(\"Frame\", img)\n",
    "\n",
    "    if cv.waitKey(1) == 27:\n",
    "        cam.release()\n",
    "        break\n",
    "\n",
    "cv.destroyAllWindows()"
   ]
  },
  {
   "cell_type": "code",
   "execution_count": 60,
   "id": "713185a1-24ab-4086-ac82-5c46663e0234",
   "metadata": {},
   "outputs": [],
   "source": [
    "# Bottom Right\n",
    "cam = cv.VideoCapture(0)\n",
    "\n",
    "while True:\n",
    "    _, img = cam.read()\n",
    "    img = cv.flip(img, 1)\n",
    "    img[ 380 : 480 , 540 : 640 ] = logo\n",
    "    cv.imshow(\"Frame\", img)\n",
    "\n",
    "    if cv.waitKey(1) == 27:\n",
    "        cam.release()\n",
    "        break\n",
    "\n",
    "cv.destroyAllWindows()"
   ]
  },
  {
   "cell_type": "code",
   "execution_count": null,
   "id": "df89bcdd-becf-4720-afee-87672d1d76a1",
   "metadata": {},
   "outputs": [],
   "source": []
  }
 ],
 "metadata": {
  "kernelspec": {
   "display_name": "Python [conda env:base] *",
   "language": "python",
   "name": "conda-base-py"
  },
  "language_info": {
   "codemirror_mode": {
    "name": "ipython",
    "version": 3
   },
   "file_extension": ".py",
   "mimetype": "text/x-python",
   "name": "python",
   "nbconvert_exporter": "python",
   "pygments_lexer": "ipython3",
   "version": "3.12.7"
  }
 },
 "nbformat": 4,
 "nbformat_minor": 5
}
