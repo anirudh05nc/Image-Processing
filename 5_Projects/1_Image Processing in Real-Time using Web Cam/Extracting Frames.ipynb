{
 "cells": [
  {
   "cell_type": "code",
   "execution_count": 1,
   "id": "1681ad8a-e7d4-4651-bb12-ac59ff6cadbf",
   "metadata": {},
   "outputs": [],
   "source": [
    "import numpy as np\n",
    "import cv2 as cv"
   ]
  },
  {
   "cell_type": "markdown",
   "id": "9bb4defa-1600-4ee0-8b1d-deef44cf66cf",
   "metadata": {},
   "source": [
    "### Access Web Cam"
   ]
  },
  {
   "cell_type": "code",
   "execution_count": 9,
   "id": "1caade41-8227-457b-89e3-909763e2ae97",
   "metadata": {},
   "outputs": [],
   "source": [
    "cam = cv.VideoCapture(0)\n",
    "\n",
    "while True:\n",
    "    _, img = cam.read()\n",
    "    img = cv.flip(img, 1)     # flip the Image Horizontally\n",
    "\n",
    "    cv.imshow('Frame', img)   # Show the Image in window named \"Frame\"\n",
    "\n",
    "    if cv.waitKey(30) == 27:  # waiting period to open window is 30 millisecs\n",
    "        cam.release()         # if waitkey Returns 27 (if esc is pressed) the window will close\n",
    "        break\n",
    "\n",
    "cv.destroyAllWindows()"
   ]
  },
  {
   "cell_type": "markdown",
   "id": "61d6c0ef-6c10-4171-8e60-1c4479c6b050",
   "metadata": {},
   "source": [
    "### Cropping the Image"
   ]
  },
  {
   "cell_type": "code",
   "execution_count": 17,
   "id": "87930b4a-599d-40a1-a581-31e68cbcdc26",
   "metadata": {},
   "outputs": [],
   "source": [
    "cam = cv.VideoCapture(0)\n",
    "\n",
    "while True:\n",
    "    _, img = cam.read()\n",
    "    img = cv.flip(img, 1)     \n",
    "\n",
    "    cropped = img[100 : , 70:540 , : ]\n",
    "    \n",
    "    cv.imshow('Original', img) \n",
    "    cv.imshow(\"Cropped\", cropped)\n",
    "\n",
    "    if cv.waitKey(30) == 27:  \n",
    "        cam.release()         \n",
    "        break\n",
    "\n",
    "cv.destroyAllWindows()"
   ]
  },
  {
   "cell_type": "code",
   "execution_count": 7,
   "id": "96d9496c-0123-48e8-ae67-66a4b0ba2377",
   "metadata": {},
   "outputs": [
    {
     "data": {
      "text/plain": [
       "(480, 640, 3)"
      ]
     },
     "execution_count": 7,
     "metadata": {},
     "output_type": "execute_result"
    }
   ],
   "source": [
    "img.shape"
   ]
  },
  {
   "cell_type": "markdown",
   "id": "f484cb56-d3c6-4af8-bd87-89174474da37",
   "metadata": {},
   "source": [
    "### Frame Extraction"
   ]
  },
  {
   "cell_type": "code",
   "execution_count": 26,
   "id": "928b0405-a44c-49d2-815b-5b45bc1b1092",
   "metadata": {},
   "outputs": [],
   "source": [
    "cam = cv.VideoCapture(0)\n",
    "\n",
    "while True:\n",
    "    _, img = cam.read()\n",
    "    img = cv.flip(img, 1)      \n",
    "    img = cv.resize(img, (int(img.shape[1]/2), int(img.shape[0]/2)))\n",
    "    \n",
    "    hsv = cv.cvtColor(img, cv.COLOR_BGR2HSV)  \n",
    "\n",
    "    r = img[:, :, 0]\n",
    "    g = img[:, :, 1]\n",
    "    b = img[:, :, 2]\n",
    "\n",
    "    h = img[:, :, 0]\n",
    "    s = img[:, :, 1]\n",
    "    v = img[:, :, 2]\n",
    "    \n",
    "    cv.imshow('Original', img)\n",
    "    cv.imshow('Red', r)\n",
    "    cv.imshow('Green', g)\n",
    "    cv.imshow('Blue', b)\n",
    "    cv.imshow('HSV', hsv)\n",
    "    cv.imshow('Hue', h)\n",
    "    cv.imshow('Saturation', s)\n",
    "    cv.imshow('Value', v)\n",
    "\n",
    "    if cv.waitKey(30) == 27:  \n",
    "        cam.release()       \n",
    "        break\n",
    "\n",
    "cv.destroyAllWindows()"
   ]
  },
  {
   "cell_type": "code",
   "execution_count": null,
   "id": "5f6f65cf-efae-4a8f-96ad-aa62a903455b",
   "metadata": {},
   "outputs": [],
   "source": []
  }
 ],
 "metadata": {
  "kernelspec": {
   "display_name": "Python [conda env:base] *",
   "language": "python",
   "name": "conda-base-py"
  },
  "language_info": {
   "codemirror_mode": {
    "name": "ipython",
    "version": 3
   },
   "file_extension": ".py",
   "mimetype": "text/x-python",
   "name": "python",
   "nbconvert_exporter": "python",
   "pygments_lexer": "ipython3",
   "version": "3.12.7"
  }
 },
 "nbformat": 4,
 "nbformat_minor": 5
}
