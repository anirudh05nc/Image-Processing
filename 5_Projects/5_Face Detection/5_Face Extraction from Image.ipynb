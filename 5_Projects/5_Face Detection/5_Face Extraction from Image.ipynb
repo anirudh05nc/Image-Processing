{
 "cells": [
  {
   "cell_type": "code",
   "execution_count": 3,
   "id": "d3a65aea-8ed4-4f12-8666-efc7f4023214",
   "metadata": {},
   "outputs": [],
   "source": [
    "import os\n",
    "import numpy as np\n",
    "import cv2 as cv"
   ]
  },
  {
   "cell_type": "code",
   "execution_count": 7,
   "id": "3a6f6cf8-40a1-4285-8048-9d5cf8b2414e",
   "metadata": {},
   "outputs": [],
   "source": [
    "def save(frame, folder_name):\n",
    "    name_img = len(os.listdir(folder_name)) + 1\n",
    "    name_img = folder_name+\"/IMG_\" + str(name_img) + \".png\"\n",
    "    cv.imwrite(name_img, frame)\n",
    "    print(name_img + \" Saved\")"
   ]
  },
  {
   "cell_type": "code",
   "execution_count": null,
   "id": "b22f7b3a-b506-4a96-a752-3dcf64856e6b",
   "metadata": {},
   "outputs": [
    {
     "name": "stdout",
     "output_type": "stream",
     "text": [
      "People/IMG_1.png Saved\n",
      "People/IMG_2.png Saved\n",
      "People/IMG_3.png Saved\n"
     ]
    }
   ],
   "source": [
    "classifier = cv.CascadeClassifier('haarcascade_frontalface_default.xml')\n",
    "img = cv.imread(\"IMG_2.JPG\")\n",
    "img = cv.blur(img, (3, 3))\n",
    "faces = classifier.detectMultiScale(img, 1.1, 5)\n",
    "\n",
    "for (x, y, w, h) in faces:\n",
    "    face = img[y : y+h, x : x+w]\n",
    "    cv.imshow(\"Frame\", face)\n",
    "\n",
    "\n",
    "    if cv.waitKey(0) == 13:   # Enter\n",
    "        save(face, \"People\")\n",
    "    elif cv.waitKey(0) == 127: # Delete\n",
    "        pass\n",
    "    elif cv.waitKey(0) == 27:\n",
    "        cv.destroyAllWindows()"
   ]
  },
  {
   "cell_type": "code",
   "execution_count": 23,
   "id": "b9e78925-f3df-4415-b974-4bf7f55938ac",
   "metadata": {},
   "outputs": [
    {
     "name": "stdout",
     "output_type": "stream",
     "text": [
      "People/IMG_1.png Saved\n",
      "People/IMG_2.png Saved\n",
      "People/IMG_3.png Saved\n",
      "People/IMG_4.png Saved\n",
      "People/IMG_5.png Saved\n",
      "People/IMG_6.png Saved\n",
      "People/IMG_7.png Saved\n",
      "People/IMG_8.png Saved\n"
     ]
    }
   ],
   "source": [
    "classifier = cv.CascadeClassifier('haarcascade_frontalface_default.xml')\n",
    "img = cv.imread(\"IMG_1.JPG\")\n",
    "img = cv.blur(img, (3, 3))\n",
    "faces = classifier.detectMultiScale(img, 1.3, 10)\n",
    "\n",
    "for (x, y, w, h) in faces:\n",
    "    face = img[y : y+h, x : x+w]\n",
    "    # cv.imshow(\"Frame\", face)\n",
    "    save(face, \"People\")"
   ]
  },
  {
   "cell_type": "code",
   "execution_count": null,
   "id": "30bd26bb-c255-425d-8918-9daf519a6c37",
   "metadata": {},
   "outputs": [],
   "source": []
  }
 ],
 "metadata": {
  "kernelspec": {
   "display_name": "Python [conda env:base] *",
   "language": "python",
   "name": "conda-base-py"
  },
  "language_info": {
   "codemirror_mode": {
    "name": "ipython",
    "version": 3
   },
   "file_extension": ".py",
   "mimetype": "text/x-python",
   "name": "python",
   "nbconvert_exporter": "python",
   "pygments_lexer": "ipython3",
   "version": "3.12.7"
  }
 },
 "nbformat": 4,
 "nbformat_minor": 5
}
