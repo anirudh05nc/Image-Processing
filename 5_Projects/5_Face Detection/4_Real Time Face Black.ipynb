{
 "cells": [
  {
   "cell_type": "code",
   "execution_count": 1,
   "id": "23ffd8a4-e494-4c1e-af1e-e1136831bb32",
   "metadata": {},
   "outputs": [],
   "source": [
    "import numpy as np\n",
    "import cv2 as cv"
   ]
  },
  {
   "cell_type": "markdown",
   "id": "31cd4f0d-d72c-4c05-87b8-e40dd61146cc",
   "metadata": {},
   "source": [
    "### Square"
   ]
  },
  {
   "cell_type": "code",
   "execution_count": 10,
   "id": "42429e7e-dd03-40a7-bd1c-6e7e222ff48f",
   "metadata": {},
   "outputs": [],
   "source": [
    "classifier = cv.CascadeClassifier('haarcascade_frontalface_default.xml')\n",
    "\n",
    "cam = cv.VideoCapture(0)\n",
    "\n",
    "while True:\n",
    "    _, img = cam.read()\n",
    "    img = cv.flip(img, 1)\n",
    "\n",
    "    try:\n",
    "        faces = classifier.detectMultiScale(img, 1.1, 5)\n",
    "        if len(faces) >= 1:\n",
    "            for f in faces:\n",
    "                if f[-1] == max(faces[:, -1]):\n",
    "                    break\n",
    "            x, y, w, h = f\n",
    "            # cv.rectangle(img, (x, y), (x+w, y+h), (0, 150, 0), 2)\n",
    "            face = img[y : y+h, x : x+w]\n",
    "            black = np.zeros(face.shape, dtype=int)\n",
    "            img[y : y+h, x : x+w] = black\n",
    "            cv.imshow('Face', face)\n",
    "            \n",
    "        cv.imshow('Frame', img)\n",
    "    except:\n",
    "        pass\n",
    "\n",
    "    if cv.waitKey(1) == 27:\n",
    "        cam.release()\n",
    "        break\n",
    "\n",
    "cv.destroyAllWindows()"
   ]
  },
  {
   "cell_type": "code",
   "execution_count": null,
   "id": "df30617d-5bf2-4995-b995-c0afa8dc8581",
   "metadata": {},
   "outputs": [],
   "source": [
    "cam.release()"
   ]
  },
  {
   "cell_type": "markdown",
   "id": "acfb69fc-65aa-481f-9b65-716627d9e35a",
   "metadata": {},
   "source": [
    "### Circle"
   ]
  },
  {
   "cell_type": "code",
   "execution_count": 8,
   "id": "8dff11a3-76dd-4494-9c07-8572a58c1448",
   "metadata": {},
   "outputs": [],
   "source": [
    "classifier = cv.CascadeClassifier('haarcascade_frontalface_default.xml')\n",
    "\n",
    "cam = cv.VideoCapture(0)\n",
    "\n",
    "while True:\n",
    "    _, img = cam.read()\n",
    "    img = cv.flip(img, 1)\n",
    "\n",
    "    try:\n",
    "        faces = classifier.detectMultiScale(img, 1.1, 5)\n",
    "        if len(faces) >= 1:\n",
    "            for f in faces:\n",
    "                if f[-1] == max(faces[:, -1]):\n",
    "                    break\n",
    "            x, y, w, h = f\n",
    "\n",
    "            circle_x = x + int(w/2)\n",
    "            circle_y = y + int(h/2)\n",
    "            # cv.rectangle(img, (x, y), (x+w, y+h), (0, 150, 0), 2)\n",
    "            cv.circle(img, (circle_x, circle_y), int(w/1.7), (0, 0, 0), -1)\n",
    "        # cv.imshow('Face', circle)    \n",
    "        cv.imshow('Frame', img)\n",
    "    except:\n",
    "        pass\n",
    "\n",
    "    if cv.waitKey(1) == 27:\n",
    "        cam.release()\n",
    "        break\n",
    "\n",
    "cv.destroyAllWindows()"
   ]
  },
  {
   "cell_type": "code",
   "execution_count": null,
   "id": "035f1e16-0add-4d77-b375-33826e47e770",
   "metadata": {},
   "outputs": [],
   "source": []
  }
 ],
 "metadata": {
  "kernelspec": {
   "display_name": "Python [conda env:base] *",
   "language": "python",
   "name": "conda-base-py"
  },
  "language_info": {
   "codemirror_mode": {
    "name": "ipython",
    "version": 3
   },
   "file_extension": ".py",
   "mimetype": "text/x-python",
   "name": "python",
   "nbconvert_exporter": "python",
   "pygments_lexer": "ipython3",
   "version": "3.12.7"
  }
 },
 "nbformat": 4,
 "nbformat_minor": 5
}
