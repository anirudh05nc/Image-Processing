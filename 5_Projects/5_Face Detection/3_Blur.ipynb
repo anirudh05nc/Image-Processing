{
 "cells": [
  {
   "cell_type": "code",
   "execution_count": 1,
   "id": "324b8a9d-53a3-4b5f-92a5-aa6876af64f3",
   "metadata": {},
   "outputs": [],
   "source": [
    "import numpy as np\n",
    "import cv2 as cv"
   ]
  },
  {
   "cell_type": "code",
   "execution_count": 21,
   "id": "887c72b9-8b81-4e17-bbec-122e7b4181d5",
   "metadata": {},
   "outputs": [],
   "source": [
    "\n",
    "\n",
    "classifier = cv.CascadeClassifier('haarcascade_frontalface_default.xml')\n",
    "\n",
    "cam = cv.VideoCapture(0)\n",
    "\n",
    "while True:\n",
    "    _, img = cam.read()\n",
    "    img = cv.flip(img, 1)\n",
    "\n",
    "\n",
    "    faces = classifier.detectMultiScale(img, 1.1, 5)\n",
    "    \n",
    "    for f in faces:\n",
    "        if f[-1] == max(faces[:, -1]):\n",
    "            break        \n",
    "    x, y, w, h = f        \n",
    "    # cv.rectangle(img, (x, y), (x+w, y+h), (0, 150, 0), 2)\n",
    "    face = img[y : y+h, x : x+w]                 # Getting The Face Area From Video\n",
    "    face = cv.blur(face, (32, 32))               # Applying Blur on the Face\n",
    "    img[y : y+h, x : x+w] = face                 # Apply Blured Face on Video Feed\n",
    "    \n",
    "    # cv.imshow('Face' , face)\n",
    "        \n",
    "    cv.imshow('Frame', img)\n",
    "    \n",
    "    if cv.waitKey(1) == 27:\n",
    "        cam.release()\n",
    "        break\n",
    "\n",
    "cv.destroyAllWindows()"
   ]
  },
  {
   "cell_type": "code",
   "execution_count": 3,
   "id": "e464a8dc-0b0c-47b3-a79a-f7566435745b",
   "metadata": {},
   "outputs": [],
   "source": [
    "\n",
    "classifier = cv.CascadeClassifier('haarcascade_frontalface_default.xml')\n",
    "\n",
    "cam = cv.VideoCapture(0)\n",
    "\n",
    "while True:\n",
    "    _, img = cam.read()\n",
    "    img = cv.flip(img, 1)\n",
    "\n",
    "    try:\n",
    "        faces = classifier.detectMultiScale(img, 1.1, 5)\n",
    "        \n",
    "        for f in faces:\n",
    "            if f[-1] == max(faces[:, -1]):\n",
    "                break        \n",
    "        x, y, w, h = f        \n",
    "        # cv.rectangle(img, (x, y), (x+w, y+h), (0, 150, 0), 2)\n",
    "        face = img[y-50 : y+h+50, x : x+w]                 # Getting The Face Area From Video\n",
    "        face = cv.blur(face, (32, 32))               # Applying Blur on the Face\n",
    "        img[y-50 : y+h+50, x : x+w] = face                 # Apply Blured Face on Video Feed\n",
    "    except:\n",
    "        pass\n",
    "    # cv.imshow('Face' , face)\n",
    "        \n",
    "    cv.imshow('Frame', img)\n",
    "    \n",
    "    if cv.waitKey(1) == 27:\n",
    "        cam.release()\n",
    "        break\n",
    "\n",
    "cv.destroyAllWindows()"
   ]
  },
  {
   "cell_type": "code",
   "execution_count": null,
   "id": "15f5c409-acee-4eab-9627-51d71c61a7cd",
   "metadata": {},
   "outputs": [],
   "source": []
  }
 ],
 "metadata": {
  "kernelspec": {
   "display_name": "Python [conda env:base] *",
   "language": "python",
   "name": "conda-base-py"
  },
  "language_info": {
   "codemirror_mode": {
    "name": "ipython",
    "version": 3
   },
   "file_extension": ".py",
   "mimetype": "text/x-python",
   "name": "python",
   "nbconvert_exporter": "python",
   "pygments_lexer": "ipython3",
   "version": "3.12.7"
  }
 },
 "nbformat": 4,
 "nbformat_minor": 5
}
