{
 "cells": [
  {
   "cell_type": "code",
   "execution_count": 1,
   "id": "324b8a9d-53a3-4b5f-92a5-aa6876af64f3",
   "metadata": {},
   "outputs": [],
   "source": [
    "import numpy as np\n",
    "import cv2 as cv"
   ]
  },
  {
   "cell_type": "code",
   "execution_count": null,
   "id": "887c72b9-8b81-4e17-bbec-122e7b4181d5",
   "metadata": {},
   "outputs": [
    {
     "ename": "NameError",
     "evalue": "name 'f' is not defined",
     "output_type": "error",
     "traceback": [
      "\u001b[1;31m---------------------------------------------------------------------------\u001b[0m",
      "\u001b[1;31mNameError\u001b[0m                                 Traceback (most recent call last)",
      "Cell \u001b[1;32mIn[2], line 15\u001b[0m\n\u001b[0;32m     13\u001b[0m     \u001b[38;5;28;01mif\u001b[39;00m f[\u001b[38;5;241m-\u001b[39m\u001b[38;5;241m1\u001b[39m] \u001b[38;5;241m==\u001b[39m \u001b[38;5;28mmax\u001b[39m(faces[:, \u001b[38;5;241m-\u001b[39m\u001b[38;5;241m1\u001b[39m]):\n\u001b[0;32m     14\u001b[0m         \u001b[38;5;28;01mbreak\u001b[39;00m        \n\u001b[1;32m---> 15\u001b[0m x, y, w, h \u001b[38;5;241m=\u001b[39m \u001b[43mf\u001b[49m        \n\u001b[0;32m     16\u001b[0m \u001b[38;5;66;03m# cv.rectangle(img, (x, y), (x+w, y+h), (0, 150, 0), 2)\u001b[39;00m\n\u001b[0;32m     17\u001b[0m face \u001b[38;5;241m=\u001b[39m img[y : y\u001b[38;5;241m+\u001b[39mh, x : x\u001b[38;5;241m+\u001b[39mw]                 \u001b[38;5;66;03m# Getting The Face Area From Video\u001b[39;00m\n",
      "\u001b[1;31mNameError\u001b[0m: name 'f' is not defined"
     ]
    }
   ],
   "source": [
    "\n",
    "\n",
    "classifier = cv.CascadeClassifier('haarcascade_frontalface_default.xml')\n",
    "\n",
    "cam = cv.VideoCapture(0)\n",
    "\n",
    "while True:\n",
    "    _, img = cam.read()\n",
    "    img = cv.flip(img, 1)\n",
    "\n",
    "\n",
    "    faces = classifier.detectMultiScale(img, 1.1, 5)\n",
    "    \n",
    "    for f in faces:\n",
    "        if f[-1] == max(faces[:, -1]):\n",
    "            break        \n",
    "    x, y, w, h = f        \n",
    "    # cv.rectangle(img, (x, y), (x+w, y+h), (0, 150, 0), 2)\n",
    "    face = img[y : y+h, x : x+w]                 # Getting The Face Area From Video\n",
    "    face = cv.blur(face, (32, 32))               # Applying Blur on the Face\n",
    "    img[y : y+h, x : x+w] = face                 # Apply Blured Face on Video Feed\n",
    "    \n",
    "    # cv.imshow('Face' , face)\n",
    "        \n",
    "    cv.imshow('Frame', img)\n",
    "    \n",
    "    if cv.waitKey(1) == 27:\n",
    "        cam.release()\n",
    "        break\n",
    "\n",
    "cv.destroyAllWindows()"
   ]
  },
  {
   "cell_type": "code",
   "execution_count": null,
   "id": "e464a8dc-0b0c-47b3-a79a-f7566435745b",
   "metadata": {},
   "outputs": [],
   "source": [
    "\n",
    "classifier = cv.CascadeClassifier('haarcascade_frontalface_default.xml')\n",
    "\n",
    "cam = cv.VideoCapture(0)\n",
    "\n",
    "while True:\n",
    "    _, img = cam.read()\n",
    "    img = cv.flip(img, 1)\n",
    "\n",
    "    try:\n",
    "        faces = classifier.detectMultiScale(img, 1.1, 5)\n",
    "        \n",
    "        for f in faces:\n",
    "            if f[-1] == max(faces[:, -1]):\n",
    "                break        \n",
    "        x, y, w, h = f        \n",
    "        # cv.rectangle(img, (x, y), (x+w, y+h), (0, 150, 0), 2)\n",
    "        face = img[y-50 : y+h+50, x : x+w]                 # Getting The Face Area From Video\n",
    "        face = cv.blur(face, (32, 32))               # Applying Blur on the Face\n",
    "        img[y-50 : y+h+50, x : x+w] = face                 # Apply Blured Face on Video Feed\n",
    "    except:\n",
    "        pass\n",
    "    # cv.imshow('Face' , face)\n",
    "        \n",
    "    cv.imshow('Frame', img)\n",
    "    \n",
    "    if cv.waitKey(1) == 27:\n",
    "        cam.release()\n",
    "        break\n",
    "\n",
    "cv.destroyAllWindows()"
   ]
  },
  {
   "cell_type": "code",
   "execution_count": null,
   "id": "15f5c409-acee-4eab-9627-51d71c61a7cd",
   "metadata": {},
   "outputs": [],
   "source": []
  }
 ],
 "metadata": {
  "kernelspec": {
   "display_name": "base",
   "language": "python",
   "name": "python3"
  },
  "language_info": {
   "codemirror_mode": {
    "name": "ipython",
    "version": 3
   },
   "file_extension": ".py",
   "mimetype": "text/x-python",
   "name": "python",
   "nbconvert_exporter": "python",
   "pygments_lexer": "ipython3",
   "version": "3.12.7"
  }
 },
 "nbformat": 4,
 "nbformat_minor": 5
}
