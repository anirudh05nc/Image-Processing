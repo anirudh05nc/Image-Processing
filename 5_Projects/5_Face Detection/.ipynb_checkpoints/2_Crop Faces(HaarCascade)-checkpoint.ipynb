{
 "cells": [
  {
   "cell_type": "code",
   "execution_count": 1,
   "id": "1c706ff3-91ba-463a-9d88-b1f3a184c693",
   "metadata": {},
   "outputs": [],
   "source": [
    "import numpy as np\n",
    "import cv2 as cv"
   ]
  },
  {
   "cell_type": "code",
   "execution_count": 3,
   "id": "9d011ff0-903d-4b89-9d76-73e03c00b325",
   "metadata": {},
   "outputs": [],
   "source": [
    "classifier = cv.CascadeClassifier('haarcascade_frontalface_default.xml')\n",
    "\n",
    "cam = cv.VideoCapture(0)\n",
    "\n",
    "while True:\n",
    "    _, img = cam.read()\n",
    "    img = cv.flip(img, 1)\n",
    "\n",
    "    faces = classifier.detectMultiScale(img, 1.1, 4)\n",
    "    for (x, y, w, h) in faces:\n",
    "        cv.rectangle(img, (x, y), (x+w, y+h), (0, 150, 0), 2)\n",
    "\n",
    "    # face = img[y : y+h, x : x+w]\n",
    "    \n",
    "    cv.imshow('Frame', img)\n",
    "    # cv.imshow('Face', face)\n",
    "    \n",
    "    if cv.waitKey(1) == 27:\n",
    "        cam.release()\n",
    "        break\n",
    "\n",
    "cv.destroyAllWindows()"
   ]
  },
  {
   "cell_type": "code",
   "execution_count": 5,
   "id": "7628b456-588a-4e42-be1a-475a47b5e2a1",
   "metadata": {},
   "outputs": [
    {
     "data": {
      "text/plain": [
       "(480, 640, 3)"
      ]
     },
     "execution_count": 5,
     "metadata": {},
     "output_type": "execute_result"
    }
   ],
   "source": [
    "img.shape"
   ]
  },
  {
   "cell_type": "code",
   "execution_count": 7,
   "id": "00e411d9-763f-46e7-8484-eb187f7a23b4",
   "metadata": {},
   "outputs": [
    {
     "data": {
      "text/plain": [
       "((210, 385), (189, 364))"
      ]
     },
     "execution_count": 7,
     "metadata": {},
     "output_type": "execute_result"
    }
   ],
   "source": [
    "(x, x+w), (y, y+h)"
   ]
  },
  {
   "cell_type": "code",
   "execution_count": 9,
   "id": "2a89e5f1-9fb5-4af7-abd5-7b8519eba9e9",
   "metadata": {},
   "outputs": [
    {
     "data": {
      "text/plain": [
       "(175, 175, 3)"
      ]
     },
     "execution_count": 9,
     "metadata": {},
     "output_type": "execute_result"
    }
   ],
   "source": [
    "img[x : x+w, y : y+h].shape"
   ]
  },
  {
   "cell_type": "code",
   "execution_count": 11,
   "id": "326ce304-74b9-48b1-a426-5d1e96000d0e",
   "metadata": {},
   "outputs": [],
   "source": [
    "classifier = cv.CascadeClassifier('haarcascade_frontalface_default.xml')\n",
    "cam = cv.VideoCapture(0)\n",
    "\n",
    "while True:\n",
    "    _, img = cam.read()\n",
    "    img = cv.flip(img, 1)\n",
    "\n",
    "    faces = classifier.detectMultiScale(img, 1.1, 5)\n",
    "    \n",
    "    if len(faces) >= 1:\n",
    "        for f in faces:\n",
    "            if f[-1] == max(faces[:, -1]):\n",
    "                break\n",
    "        x, y, w, h = f\n",
    "        cv.rectangle(img, (x, y), (x+w, y+h), (0, 150, 0), 2)\n",
    "        face = img[y : y+h, x : x+w]\n",
    "        cv.imshow('Face', face)\n",
    "\n",
    "    cv.imshow('Frame', img)\n",
    "    \n",
    "    if cv.waitKey(1) == 27:\n",
    "        break\n",
    "\n",
    "cam.release()\n",
    "cv.destroyAllWindows()"
   ]
  },
  {
   "cell_type": "code",
   "execution_count": null,
   "id": "2c77000f-75b4-4167-83e9-00183877a663",
   "metadata": {},
   "outputs": [],
   "source": []
  }
 ],
 "metadata": {
  "kernelspec": {
   "display_name": "Python [conda env:base] *",
   "language": "python",
   "name": "conda-base-py"
  },
  "language_info": {
   "codemirror_mode": {
    "name": "ipython",
    "version": 3
   },
   "file_extension": ".py",
   "mimetype": "text/x-python",
   "name": "python",
   "nbconvert_exporter": "python",
   "pygments_lexer": "ipython3",
   "version": "3.12.7"
  }
 },
 "nbformat": 4,
 "nbformat_minor": 5
}
