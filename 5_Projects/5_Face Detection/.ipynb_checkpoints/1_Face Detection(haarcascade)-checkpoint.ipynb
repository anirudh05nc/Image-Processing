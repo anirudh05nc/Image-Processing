{
 "cells": [
  {
   "cell_type": "code",
   "execution_count": 1,
   "id": "7555be14-6e07-4019-a35c-ab99c436d2f6",
   "metadata": {},
   "outputs": [],
   "source": [
    "import numpy as np\n",
    "import cv2 as cv"
   ]
  },
  {
   "cell_type": "code",
   "execution_count": 3,
   "id": "059c2d84-ce7c-4bcc-bba8-59b1012c52ec",
   "metadata": {},
   "outputs": [],
   "source": [
    "classifier = cv.CascadeClassifier('haarcascade_frontalface_default.xml')\n",
    "\n",
    "cam = cv.VideoCapture(0)\n",
    "\n",
    "while True:\n",
    "    _, img = cam.read()\n",
    "    img = cv.flip(img, 1)\n",
    "\n",
    "    try:\n",
    "        faces = classifier.detectMultiScale(img, 1.1, 5)\n",
    "        for (x, y, w, h) in faces:\n",
    "            cv.rectangle(img, (x, y), (x+w, y+h), (0, 150, 0), 2)\n",
    "    except:\n",
    "        pass\n",
    "        \n",
    "    cv.imshow('Frame', img)\n",
    "    \n",
    "    if cv.waitKey(1) == 27:\n",
    "        cam.release()\n",
    "        break\n",
    "\n",
    "cv.destroyAllWindows()"
   ]
  },
  {
   "cell_type": "code",
   "execution_count": 43,
   "id": "5b1735b2-ec6b-42d0-8641-d282e855505f",
   "metadata": {},
   "outputs": [],
   "source": [
    "cam.release()"
   ]
  }
 ],
 "metadata": {
  "kernelspec": {
   "display_name": "Python [conda env:base] *",
   "language": "python",
   "name": "conda-base-py"
  },
  "language_info": {
   "codemirror_mode": {
    "name": "ipython",
    "version": 3
   },
   "file_extension": ".py",
   "mimetype": "text/x-python",
   "name": "python",
   "nbconvert_exporter": "python",
   "pygments_lexer": "ipython3",
   "version": "3.12.7"
  }
 },
 "nbformat": 4,
 "nbformat_minor": 5
}
