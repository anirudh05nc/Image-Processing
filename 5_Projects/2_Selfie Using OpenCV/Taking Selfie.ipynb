{
 "cells": [
  {
   "cell_type": "code",
   "execution_count": 4,
   "id": "0c59756e-7961-477d-b95e-c244b8b7ea58",
   "metadata": {},
   "outputs": [],
   "source": [
    "import numpy as np\n",
    "import cv2 as cv"
   ]
  },
  {
   "cell_type": "markdown",
   "id": "638ec2d7-1d66-43de-9852-3c31e80a1e95",
   "metadata": {},
   "source": [
    "### Taking Selfie"
   ]
  },
  {
   "cell_type": "code",
   "execution_count": 24,
   "id": "1e1766b5-b649-4036-8037-d76f42d405ac",
   "metadata": {},
   "outputs": [],
   "source": [
    "cam = cv.VideoCapture(0)\n",
    "\n",
    "while True:\n",
    "    _, img = cam.read()\n",
    "    img = cv.flip(img, 1)     \n",
    "\n",
    "    cv.imshow('Frame', img)   \n",
    "\n",
    "    if cv.waitKey(30) == 27:  \n",
    "        cam.release()        \n",
    "        break\n",
    "\n",
    "    if cv.waitKey(30) == 13:\n",
    "        cv.imwrite('Selfie.png', img)\n",
    "        cam.release()\n",
    "        break\n",
    "\n",
    "cv.destroyAllWindows()"
   ]
  },
  {
   "cell_type": "markdown",
   "id": "a320e15c-7d89-4aa8-97fb-8e8c9ae496f5",
   "metadata": {},
   "source": [
    "### Selfie with multiple Filters"
   ]
  },
  {
   "cell_type": "code",
   "execution_count": 30,
   "id": "72bdac1b-4835-49f7-93ca-31f0bbcbee60",
   "metadata": {},
   "outputs": [],
   "source": [
    "cam = cv.VideoCapture(0)\n",
    "\n",
    "while True:\n",
    "    _, img = cam.read()\n",
    "    img = cv.flip(img, 1)     \n",
    "    gray = cv.cvtColor(img, cv.COLOR_BGR2GRAY)\n",
    "    hsv = cv.cvtColor(img, cv.COLOR_BGR2HSV)\n",
    "    \n",
    "    cv.imshow('Frame', img)   \n",
    "    \n",
    "    if cv.waitKey(30) == 27:  \n",
    "        cam.release()        \n",
    "        break\n",
    "\n",
    "    if cv.waitKey(30) == 13:\n",
    "        cv.imwrite('Selfie.png', img)\n",
    "        cv.imwrite('Selfie_GRAY.png', gray)\n",
    "        cv.imwrite('Selfie_HSV.png', hsv)\n",
    "        cam.release()\n",
    "        break\n",
    "\n",
    "cv.destroyAllWindows()"
   ]
  },
  {
   "cell_type": "markdown",
   "id": "8af14396-838b-4c1f-970c-03193a311801",
   "metadata": {},
   "source": [
    "### Multiple Selfies "
   ]
  },
  {
   "cell_type": "code",
   "execution_count": 43,
   "id": "5abf04df-3671-42f9-965a-5cc33efbc32d",
   "metadata": {},
   "outputs": [],
   "source": [
    "cam = cv.VideoCapture(0)\n",
    "c = 1\n",
    "while True:\n",
    "    _, img = cam.read()\n",
    "    img = cv.flip(img, 1)      \n",
    "    \n",
    "    cv.imshow('Frame', img)   \n",
    "\n",
    "    if cv.waitKey(30) == 13:\n",
    "        cv.imwrite('Selfie_'+str(c)+'.png', img)   # Press Enter to capture the image\n",
    "        c += 1\n",
    "        \n",
    "\n",
    "    if cv.waitKey(30) == 27:                       # Press esc to Stop \n",
    "        cam.release()        \n",
    "        break\n",
    "\n",
    "cv.destroyAllWindows()"
   ]
  },
  {
   "cell_type": "code",
   "execution_count": null,
   "id": "96f27530-e867-4b44-9fe4-55cd723fe1c0",
   "metadata": {},
   "outputs": [],
   "source": []
  }
 ],
 "metadata": {
  "kernelspec": {
   "display_name": "Python [conda env:base] *",
   "language": "python",
   "name": "conda-base-py"
  },
  "language_info": {
   "codemirror_mode": {
    "name": "ipython",
    "version": 3
   },
   "file_extension": ".py",
   "mimetype": "text/x-python",
   "name": "python",
   "nbconvert_exporter": "python",
   "pygments_lexer": "ipython3",
   "version": "3.12.7"
  }
 },
 "nbformat": 4,
 "nbformat_minor": 5
}
