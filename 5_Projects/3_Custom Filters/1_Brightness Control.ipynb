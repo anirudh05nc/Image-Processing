{
 "cells": [
  {
   "cell_type": "code",
   "execution_count": 89,
   "id": "208b058a-db3f-4c95-bd26-9d6c5eeaf1c8",
   "metadata": {},
   "outputs": [],
   "source": [
    "import numpy as np\n",
    "import matplotlib.pyplot as plt\n",
    "import cv2 as cv"
   ]
  },
  {
   "cell_type": "code",
   "execution_count": 83,
   "id": "556bce21-e217-45aa-b3ec-fb0b114fb768",
   "metadata": {},
   "outputs": [],
   "source": [
    "cam = cv.VideoCapture(0)\n",
    "\n",
    "while True:\n",
    "    _, img = cam.read()\n",
    "    img = cv.flip(img, 1)\n",
    "\n",
    "    cv.imshow('Original', img)\n",
    "\n",
    "    if cv.waitKey(1) == 27:\n",
    "        cam.release()\n",
    "        break\n",
    "\n",
    "cv.destroyAllWindows()"
   ]
  },
  {
   "cell_type": "code",
   "execution_count": 7,
   "id": "61f13087-a1fe-4164-b834-0c6cdf9c37fe",
   "metadata": {},
   "outputs": [],
   "source": [
    "# to increase the brightness we increase all the pixel values and vice versa for decrease"
   ]
  },
  {
   "cell_type": "code",
   "execution_count": 28,
   "id": "df057dd4-21e4-43b1-8f2a-a82888b17d69",
   "metadata": {},
   "outputs": [
    {
     "data": {
      "text/plain": [
       "array([[[136, 139, 140],\n",
       "        [137, 141, 142],\n",
       "        [141, 146, 147],\n",
       "        ...,\n",
       "        [177, 175, 180],\n",
       "        [178, 176, 182],\n",
       "        [179, 177, 184]],\n",
       "\n",
       "       [[138, 141, 142],\n",
       "        [139, 142, 143],\n",
       "        [142, 146, 147],\n",
       "        ...,\n",
       "        [175, 173, 178],\n",
       "        [175, 173, 179],\n",
       "        [176, 174, 180]],\n",
       "\n",
       "       [[135, 137, 138],\n",
       "        [135, 137, 138],\n",
       "        [136, 138, 139],\n",
       "        ...,\n",
       "        [176, 172, 177],\n",
       "        [175, 171, 176],\n",
       "        [174, 171, 176]],\n",
       "\n",
       "       ...,\n",
       "\n",
       "       [[ 74,  63,  56],\n",
       "        [ 73,  61,  55],\n",
       "        [ 75,  62,  56],\n",
       "        ...,\n",
       "        [176, 172, 177],\n",
       "        [176, 172, 177],\n",
       "        [177, 173, 178]],\n",
       "\n",
       "       [[ 76,  65,  58],\n",
       "        [ 74,  63,  56],\n",
       "        [ 74,  62,  56],\n",
       "        ...,\n",
       "        [176, 172, 177],\n",
       "        [176, 172, 177],\n",
       "        [177, 173, 178]],\n",
       "\n",
       "       [[ 78,  66,  60],\n",
       "        [ 77,  66,  59],\n",
       "        [ 76,  65,  58],\n",
       "        ...,\n",
       "        [177, 173, 178],\n",
       "        [176, 172, 177],\n",
       "        [176, 172, 177]]], dtype=uint8)"
      ]
     },
     "execution_count": 28,
     "metadata": {},
     "output_type": "execute_result"
    }
   ],
   "source": [
    "img"
   ]
  },
  {
   "cell_type": "code",
   "execution_count": 30,
   "id": "a0f0b3b3-9f60-49af-9707-d8f103dc891d",
   "metadata": {},
   "outputs": [
    {
     "data": {
      "text/plain": [
       "187.990703125"
      ]
     },
     "execution_count": 30,
     "metadata": {},
     "output_type": "execute_result"
    }
   ],
   "source": [
    "img.mean()"
   ]
  },
  {
   "cell_type": "code",
   "execution_count": 60,
   "id": "5a7062dd-57a7-4a14-ae90-15c8f0af0e68",
   "metadata": {},
   "outputs": [],
   "source": [
    "img = img + 20"
   ]
  },
  {
   "cell_type": "code",
   "execution_count": 62,
   "id": "cebac4e4-cea2-4ce3-aa95-f030b5a7a6d3",
   "metadata": {},
   "outputs": [
    {
     "data": {
      "text/plain": [
       "199.12816623263888"
      ]
     },
     "execution_count": 62,
     "metadata": {},
     "output_type": "execute_result"
    }
   ],
   "source": [
    "img.mean()"
   ]
  },
  {
   "cell_type": "code",
   "execution_count": 64,
   "id": "a630b22d-e317-4813-8632-e2ce7b8acd9e",
   "metadata": {},
   "outputs": [],
   "source": [
    "# but this can cause pixels to cross the limts so we don't apply it directly"
   ]
  },
  {
   "cell_type": "markdown",
   "id": "285ce04c-eb18-4bab-9b2f-611eb9fa55d6",
   "metadata": {},
   "source": [
    "## Brightness Control"
   ]
  },
  {
   "cell_type": "markdown",
   "id": "0a13a5c1-c627-4613-8777-3fbf1762c61f",
   "metadata": {},
   "source": [
    "### Increase BrightNess"
   ]
  },
  {
   "cell_type": "code",
   "execution_count": 157,
   "id": "ced7588d-e716-444a-b94d-f545d48d5a6d",
   "metadata": {},
   "outputs": [],
   "source": [
    "cam = cv.VideoCapture(0)\n",
    "\n",
    "while True:\n",
    "    _, img = cam.read()\n",
    "    img = cv.flip(img, 1)\n",
    "    img = cv.resize(img, (int(img.shape[1]/2), int(img.shape[0]/2)))\n",
    "    \n",
    "    img_1 = img.astype(np.int16) + 50\n",
    "    img_1[img_1 > 255] = 255\n",
    "    img_1 = img_1.astype(np.uint8)\n",
    "\n",
    "    img_2 = img.astype(np.int16) + 100\n",
    "    img_2[img_2 > 255] = 255\n",
    "    img_2 = img_2.astype(np.uint8)\n",
    "\n",
    "    img_3 = img.astype(np.int16) + 150\n",
    "    img_3[img_3 > 255] = 255\n",
    "    img_3 = img_3.astype(np.uint8)\n",
    "    \n",
    "    cv.imshow('Original', img)\n",
    "    cv.imshow('Filter-1', img_1)\n",
    "    cv.imshow('Filter-2', img_2)\n",
    "    cv.imshow('Filter-3', img_3)\n",
    "    \n",
    "    if cv.waitKey(1) == 27:\n",
    "        cam.release()\n",
    "        break\n",
    "\n",
    "cv.destroyAllWindows()"
   ]
  },
  {
   "cell_type": "markdown",
   "id": "3363fcab-306c-44d9-80b6-3efea44a9a3d",
   "metadata": {},
   "source": [
    "### Decrease Brightness"
   ]
  },
  {
   "cell_type": "code",
   "execution_count": 168,
   "id": "cf136915-3185-4930-8809-36fb44781174",
   "metadata": {},
   "outputs": [],
   "source": [
    "cam = cv.VideoCapture(0)\n",
    "\n",
    "while True:\n",
    "    _, img = cam.read()\n",
    "    img = cv.flip(img, 1)\n",
    "    img = cv.resize(img, (int(img.shape[1]/2), int(img.shape[0]/2)))\n",
    "    img_1 = img.astype(np.int16) - 30\n",
    "    img_1[img_1 < 0] = 0\n",
    "    img_1 = img_1.astype(np.uint8)\n",
    "\n",
    "    img_2 = img.astype(np.int16) - 60\n",
    "    img_2[img_2 < 0] = 0\n",
    "    img_2 = img_2.astype(np.uint8)\n",
    "\n",
    "    img_3 = img.astype(np.int16) - 90\n",
    "    img_3[img_3 < 0] = 0\n",
    "    img_3 = img_3.astype(np.uint8)\n",
    "\n",
    "    cv.imshow('Original', img)\n",
    "    cv.imshow('Filter-1', img_1)\n",
    "    cv.imshow('Filter-2', img_2)\n",
    "    cv.imshow('Filter-3', img_3)\n",
    "\n",
    "    if cv.waitKey(1) == 27:\n",
    "        cam.release()\n",
    "        break\n",
    "\n",
    "cv.destroyAllWindows()"
   ]
  },
  {
   "cell_type": "code",
   "execution_count": null,
   "id": "ead20eba-14b9-4911-ae6b-e01a6f2cca26",
   "metadata": {},
   "outputs": [],
   "source": []
  }
 ],
 "metadata": {
  "kernelspec": {
   "display_name": "Python [conda env:base] *",
   "language": "python",
   "name": "conda-base-py"
  },
  "language_info": {
   "codemirror_mode": {
    "name": "ipython",
    "version": 3
   },
   "file_extension": ".py",
   "mimetype": "text/x-python",
   "name": "python",
   "nbconvert_exporter": "python",
   "pygments_lexer": "ipython3",
   "version": "3.12.7"
  }
 },
 "nbformat": 4,
 "nbformat_minor": 5
}
