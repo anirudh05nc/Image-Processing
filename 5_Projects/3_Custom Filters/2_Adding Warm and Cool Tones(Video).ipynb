{
 "cells": [
  {
   "cell_type": "code",
   "execution_count": 19,
   "id": "13475cc1-048d-4958-a406-7ae8cf0ee65e",
   "metadata": {},
   "outputs": [],
   "source": [
    "import numpy as np\n",
    "import cv2 as cv\n",
    "import matplotlib.pyplot as plt"
   ]
  },
  {
   "cell_type": "markdown",
   "id": "f17f74d5-6d15-4cd2-bca4-f5983468ca96",
   "metadata": {},
   "source": [
    "### Cool Tone"
   ]
  },
  {
   "cell_type": "code",
   "execution_count": 5,
   "id": "0222f865-ba1f-4ea5-8548-c9eadf608c57",
   "metadata": {},
   "outputs": [],
   "source": [
    "cam = cv.VideoCapture(0)\n",
    "\n",
    "while True:\n",
    "    _, img = cam.read()\n",
    "    img = cv.flip(img, 1)\n",
    "\n",
    "    cv.imshow('Original', img)\n",
    "\n",
    "    if cv.waitKey(1) == 27:\n",
    "        cam.release()\n",
    "        break\n",
    "\n",
    "cv.destroyAllWindows()"
   ]
  },
  {
   "cell_type": "code",
   "execution_count": 43,
   "id": "41f9b8b2-1995-415b-8bf3-28b799da0f93",
   "metadata": {},
   "outputs": [],
   "source": [
    "blue = [247, 206, 139] #BGR"
   ]
  },
  {
   "cell_type": "code",
   "execution_count": 17,
   "id": "bd555c39-83b2-4dae-874f-b72e217420c5",
   "metadata": {},
   "outputs": [
    {
     "data": {
      "text/plain": [
       "(480, 640, 3)"
      ]
     },
     "execution_count": 17,
     "metadata": {},
     "output_type": "execute_result"
    }
   ],
   "source": [
    "img.shape"
   ]
  },
  {
   "cell_type": "markdown",
   "id": "322cd9eb-25b1-409c-9551-fc13c19fd7dd",
   "metadata": {},
   "source": [
    "### Creating Blue BackGround"
   ]
  },
  {
   "cell_type": "code",
   "execution_count": 79,
   "id": "51fb975d-65bc-4503-b808-8d905dea15d7",
   "metadata": {},
   "outputs": [],
   "source": [
    "blue_background = []\n",
    "\n",
    "for i in range(480):\n",
    "    temp = []\n",
    "    for j in range(640):\n",
    "        temp.append(blue)\n",
    "    blue_background.append(temp)\n",
    "\n",
    "blue_background = np.array(blue_background).astype(np.uint8)"
   ]
  },
  {
   "cell_type": "markdown",
   "id": "625e996f-06b7-4150-9976-fe549748f409",
   "metadata": {},
   "source": [
    "### Merging"
   ]
  },
  {
   "cell_type": "code",
   "execution_count": 63,
   "id": "96cb79a7-18a9-477f-be91-6c831cc118b8",
   "metadata": {},
   "outputs": [],
   "source": [
    "cam = cv.VideoCapture(0)\n",
    "\n",
    "while True:\n",
    "    _, img = cam.read()\n",
    "    img = cv.flip(img, 1)\n",
    "    img = img.astype(np.uint8)\n",
    "    \n",
    "    merged = cv.addWeighted(img, .85, background, .15, 0)\n",
    "    \n",
    "    cv.imshow('Original', img)\n",
    "    cv.imshow('Cool Tone', merged)\n",
    "    \n",
    "    if cv.waitKey(1) == 27:\n",
    "        cam.release()\n",
    "        break\n",
    "\n",
    "cv.destroyAllWindows()"
   ]
  },
  {
   "cell_type": "code",
   "execution_count": 35,
   "id": "f9a70a0c-0d6f-4431-b664-1d90c122b494",
   "metadata": {},
   "outputs": [],
   "source": [
    "cam.release()"
   ]
  },
  {
   "cell_type": "markdown",
   "id": "54d0644b-766c-4bdf-a2da-eb85f9904245",
   "metadata": {},
   "source": [
    "### Yellow Tone (Warmer Tone)"
   ]
  },
  {
   "cell_type": "code",
   "execution_count": 77,
   "id": "91dc8d3c-38df-4ab4-91ee-183d8f39700d",
   "metadata": {},
   "outputs": [],
   "source": [
    "yellow = [108, 222, 249]\n",
    "yellow_background = []\n",
    "\n",
    "for i in range(480):\n",
    "    temp = []\n",
    "    for j in range(640):\n",
    "        temp.append(yellow)\n",
    "    yellow_background.append(temp)\n",
    "\n",
    "yellow_background = np.array(yellow_background).astype(np.uint8)\n",
    "\n",
    "cam = cv.VideoCapture(0)\n",
    "\n",
    "while True:\n",
    "    _, img = cam.read()\n",
    "    img = cv.flip(img, 1)\n",
    "    img = img.astype(np.uint8)\n",
    "    \n",
    "    merged = cv.addWeighted(img, .90, yellow_background, .10, 0)\n",
    "    \n",
    "    cv.imshow('Original', img)\n",
    "    cv.imshow('Warm Tone', merged)\n",
    "    \n",
    "    if cv.waitKey(1) == 27:\n",
    "        cam.release()\n",
    "        break\n",
    "\n",
    "cv.destroyAllWindows()"
   ]
  },
  {
   "cell_type": "code",
   "execution_count": 81,
   "id": "c3ee3d52-e77e-4a5f-8267-918d7f6f0bc8",
   "metadata": {},
   "outputs": [],
   "source": [
    "#ANC"
   ]
  },
  {
   "cell_type": "code",
   "execution_count": null,
   "id": "57401451-0e10-481d-b76a-191f5f7f9f05",
   "metadata": {},
   "outputs": [],
   "source": []
  }
 ],
 "metadata": {
  "kernelspec": {
   "display_name": "Python [conda env:base] *",
   "language": "python",
   "name": "conda-base-py"
  },
  "language_info": {
   "codemirror_mode": {
    "name": "ipython",
    "version": 3
   },
   "file_extension": ".py",
   "mimetype": "text/x-python",
   "name": "python",
   "nbconvert_exporter": "python",
   "pygments_lexer": "ipython3",
   "version": "3.12.7"
  }
 },
 "nbformat": 4,
 "nbformat_minor": 5
}
