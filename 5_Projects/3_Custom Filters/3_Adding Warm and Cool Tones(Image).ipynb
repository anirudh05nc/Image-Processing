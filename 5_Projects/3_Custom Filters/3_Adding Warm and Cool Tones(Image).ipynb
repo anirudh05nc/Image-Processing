{
 "cells": [
  {
   "cell_type": "code",
   "execution_count": 1,
   "id": "6dad2e22-99e4-4086-9776-86be17a718de",
   "metadata": {},
   "outputs": [],
   "source": [
    "import numpy as np\n",
    "import matplotlib.pyplot as plt\n",
    "import cv2 as cv"
   ]
  },
  {
   "cell_type": "markdown",
   "id": "77894dca-ecfc-4359-9abf-6022e2057247",
   "metadata": {},
   "source": [
    "### Creating BackGround"
   ]
  },
  {
   "cell_type": "code",
   "execution_count": 3,
   "id": "d796b0cb-9c1a-45d2-9598-2cbb582f91f1",
   "metadata": {},
   "outputs": [],
   "source": [
    "blue = [247, 206, 139] #BGR"
   ]
  },
  {
   "cell_type": "code",
   "execution_count": 4,
   "id": "a9952161-9bb6-4bc4-a771-966a57b6d5ac",
   "metadata": {},
   "outputs": [],
   "source": [
    "blue_background = []\n",
    "\n",
    "for i in range(480):\n",
    "    temp = []\n",
    "    for j in range(640):\n",
    "        temp.append(blue)\n",
    "    blue_background.append(temp)\n",
    "\n",
    "blue_background = np.array(blue_background).astype(np.uint8)"
   ]
  },
  {
   "cell_type": "markdown",
   "id": "e8cc32db-3883-481f-933c-e0bd0bc388e3",
   "metadata": {},
   "source": [
    "### Merging bg with Image"
   ]
  },
  {
   "cell_type": "code",
   "execution_count": 6,
   "id": "68cd1fe3-4c0d-4454-b53c-0e67c0d9fc0a",
   "metadata": {},
   "outputs": [],
   "source": [
    "img = cv.imread('ANC.jpg')"
   ]
  },
  {
   "cell_type": "code",
   "execution_count": 7,
   "id": "5eaea778-48e9-4760-9b44-ebcdf9a71bd8",
   "metadata": {},
   "outputs": [
    {
     "name": "stdout",
     "output_type": "stream",
     "text": [
      "(1280, 960, 3)\n",
      "(480, 640, 3)\n"
     ]
    }
   ],
   "source": [
    "print(img.shape)\n",
    "print(blue_background.shape)"
   ]
  },
  {
   "cell_type": "markdown",
   "id": "a0a2f299-1269-4ee4-b89c-71980dd314cc",
   "metadata": {},
   "source": [
    "### Resize the Back Ground Image"
   ]
  },
  {
   "cell_type": "code",
   "execution_count": 9,
   "id": "ae50fd28-49e0-4d71-968e-50fa50acb911",
   "metadata": {},
   "outputs": [],
   "source": [
    "img = cv.imread('ANC.jpg')\n",
    "\n",
    "rows = img.shape[0]\n",
    "cols = img.shape[1]\n",
    "\n",
    "blue_background = []\n",
    "\n",
    "for i in range(rows):\n",
    "    temp = []\n",
    "    for j in range(cols):\n",
    "        temp.append(blue)\n",
    "    blue_background.append(temp)\n",
    "\n",
    "blue_background = np.array(blue_background).astype(np.uint8)"
   ]
  },
  {
   "cell_type": "code",
   "execution_count": 10,
   "id": "875a0d52-6339-478f-b571-293ac904a20c",
   "metadata": {},
   "outputs": [
    {
     "name": "stdout",
     "output_type": "stream",
     "text": [
      "(1280, 960, 3)\n",
      "(1280, 960, 3)\n"
     ]
    }
   ],
   "source": [
    "print(img.shape)\n",
    "print(blue_background.shape)"
   ]
  },
  {
   "cell_type": "markdown",
   "id": "36f505d5-f7fe-4505-b174-7697f56d2022",
   "metadata": {},
   "source": [
    "### Merge Them "
   ]
  },
  {
   "cell_type": "code",
   "execution_count": 30,
   "id": "9eaaf21b-d3c1-48e8-b261-cb39e55ce1e5",
   "metadata": {},
   "outputs": [],
   "source": [
    "def add_tone(img_path, color, a, b):\n",
    "    img = cv.imread(img_path)\n",
    "    img = cv.resize(img, (int(img.shape[1]/2), int(img.shape[0]/2)))\n",
    "    rows = img.shape[0]\n",
    "    cols = img.shape[1]\n",
    "\n",
    "    background = []\n",
    "\n",
    "    for i in range(rows):\n",
    "        temp = []\n",
    "        for j in range(cols):\n",
    "            temp.append(color)\n",
    "        background.append(temp)\n",
    "\n",
    "    background = np.array(background).astype(np.uint8)\n",
    "\n",
    "    merged = cv.addWeighted(img, a, background, b, 0)\n",
    "\n",
    "    cv.imshow(\"Original\", img)\n",
    "    cv.waitKey(0)\n",
    "\n",
    "    cv.imshow(\"Frame\", merged)\n",
    "    cv.waitKey(0)"
   ]
  },
  {
   "cell_type": "code",
   "execution_count": 34,
   "id": "84a7b098-6327-4279-9165-8af59b220ed6",
   "metadata": {},
   "outputs": [],
   "source": [
    "add_tone('Bike_anc.jpeg', [103, 235, 244], 0.85, 0.15)"
   ]
  }
 ],
 "metadata": {
  "kernelspec": {
   "display_name": "Python [conda env:base] *",
   "language": "python",
   "name": "conda-base-py"
  },
  "language_info": {
   "codemirror_mode": {
    "name": "ipython",
    "version": 3
   },
   "file_extension": ".py",
   "mimetype": "text/x-python",
   "name": "python",
   "nbconvert_exporter": "python",
   "pygments_lexer": "ipython3",
   "version": "3.12.7"
  }
 },
 "nbformat": 4,
 "nbformat_minor": 5
}
